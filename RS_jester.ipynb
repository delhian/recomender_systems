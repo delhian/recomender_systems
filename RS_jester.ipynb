{
  "cells": [
    {
      "cell_type": "markdown",
      "metadata": {
        "id": "view-in-github",
        "colab_type": "text"
      },
      "source": [
        "<a href=\"https://colab.research.google.com/github/delhian/recomender_systems/blob/main/RS_jester.ipynb\" target=\"_parent\"><img src=\"https://colab.research.google.com/assets/colab-badge.svg\" alt=\"Open In Colab\"/></a>"
      ]
    },
    {
      "cell_type": "markdown",
      "metadata": {
        "id": "UuFKiwZtdx_I"
      },
      "source": [
        "### Please see decription here http://eigentaste.berkeley.edu/dataset/"
      ]
    },
    {
      "cell_type": "code",
      "source": [
        "pip install surprise"
      ],
      "metadata": {
        "colab": {
          "base_uri": "https://localhost:8080/"
        },
        "id": "dowBIsMpgvHN",
        "outputId": "0901c6e4-b13d-4d9e-c188-356582e76016"
      },
      "execution_count": 1,
      "outputs": [
        {
          "output_type": "stream",
          "name": "stdout",
          "text": [
            "Collecting surprise\n",
            "  Downloading surprise-0.1-py2.py3-none-any.whl (1.8 kB)\n",
            "Collecting scikit-surprise\n",
            "  Downloading scikit-surprise-1.1.1.tar.gz (11.8 MB)\n",
            "\u001b[K     |████████████████████████████████| 11.8 MB 5.5 MB/s \n",
            "\u001b[?25hRequirement already satisfied: joblib>=0.11 in /usr/local/lib/python3.7/dist-packages (from scikit-surprise->surprise) (1.1.0)\n",
            "Requirement already satisfied: numpy>=1.11.2 in /usr/local/lib/python3.7/dist-packages (from scikit-surprise->surprise) (1.19.5)\n",
            "Requirement already satisfied: scipy>=1.0.0 in /usr/local/lib/python3.7/dist-packages (from scikit-surprise->surprise) (1.4.1)\n",
            "Requirement already satisfied: six>=1.10.0 in /usr/local/lib/python3.7/dist-packages (from scikit-surprise->surprise) (1.15.0)\n",
            "Building wheels for collected packages: scikit-surprise\n",
            "  Building wheel for scikit-surprise (setup.py) ... \u001b[?25l\u001b[?25hdone\n",
            "  Created wheel for scikit-surprise: filename=scikit_surprise-1.1.1-cp37-cp37m-linux_x86_64.whl size=1619417 sha256=ec06c8ec3f08a237ef61d00b4d3c66ccd06eb562e12a1850d625da2f96739879\n",
            "  Stored in directory: /root/.cache/pip/wheels/76/44/74/b498c42be47b2406bd27994e16c5188e337c657025ab400c1c\n",
            "Successfully built scikit-surprise\n",
            "Installing collected packages: scikit-surprise, surprise\n",
            "Successfully installed scikit-surprise-1.1.1 surprise-0.1\n"
          ]
        }
      ]
    },
    {
      "cell_type": "code",
      "source": [
        "!unzip -qq jokes.zip"
      ],
      "metadata": {
        "id": "cgbHSR6phA8i"
      },
      "execution_count": 3,
      "outputs": []
    },
    {
      "cell_type": "code",
      "execution_count": 4,
      "metadata": {
        "id": "XRgBpNW7dx_J"
      },
      "outputs": [],
      "source": [
        "import pandas as pd\n",
        "pd.set_option('display.float_format', lambda x: '%.2f' % x)\n",
        "from bs4 import BeautifulSoup as bs\n",
        "from os import listdir\n",
        "from os.path import isfile, join\n",
        "pd.set_option('max_colwidth', 400)\n",
        "import numpy as np\n",
        "from collections import defaultdict\n",
        "from surprise.model_selection import GridSearchCV"
      ]
    },
    {
      "cell_type": "markdown",
      "metadata": {
        "id": "jFMcq4REdx_J"
      },
      "source": [
        "## Jokes"
      ]
    },
    {
      "cell_type": "code",
      "execution_count": 5,
      "metadata": {
        "scrolled": true,
        "colab": {
          "base_uri": "https://localhost:8080/"
        },
        "id": "Wd7kYMiZdx_K",
        "outputId": "47579e23-ea02-4e5a-df9f-fe67abef3e60"
      },
      "outputs": [
        {
          "output_type": "stream",
          "name": "stdout",
          "text": [
            "(100, 2)\n",
            "CPU times: user 88.4 ms, sys: 7.97 ms, total: 96.4 ms\n",
            "Wall time: 106 ms\n"
          ]
        }
      ],
      "source": [
        "%%time\n",
        "\n",
        "filenames_path= './jokes/'\n",
        "\n",
        "filenames = [f for f in listdir(filenames_path) if '.htm' in f]\n",
        "\n",
        "jokes = []\n",
        "\n",
        "for filename in filenames:\n",
        "    joke_id = int(filename.split('.')[0].replace('init','')) - 1\n",
        "    with open(join(filenames_path, filename), 'r',) as file:\n",
        "        text = bs(file, 'lxml').body.text.replace('\\n',' ').strip()\n",
        "        jokes.append([joke_id, text])\n",
        "        \n",
        "jokes = pd.DataFrame(jokes, columns = ['joke_id', 'text'])\n",
        "jokes = jokes.sort_values('joke_id').reset_index(drop=True)\n",
        "print(jokes.shape)\n",
        "jokes.head()"
      ]
    },
    {
      "cell_type": "code",
      "execution_count": 6,
      "metadata": {
        "id": "nvZxfUTbdx_L"
      },
      "outputs": [],
      "source": [
        "jokes.to_pickle('jokes.pkl')"
      ]
    },
    {
      "cell_type": "markdown",
      "metadata": {
        "id": "QvC9w6bUdx_L"
      },
      "source": [
        "## Ratings"
      ]
    },
    {
      "cell_type": "code",
      "execution_count": 7,
      "metadata": {
        "colab": {
          "base_uri": "https://localhost:8080/"
        },
        "id": "51AdfyXudx_L",
        "outputId": "dc6a8ce6-4f4f-421c-dd70-27fdb5ac6197"
      },
      "outputs": [
        {
          "output_type": "stream",
          "name": "stdout",
          "text": [
            "(73421, 101)\n",
            "CPU times: user 26.2 s, sys: 522 ms, total: 26.7 s\n",
            "Wall time: 26.8 s\n"
          ]
        }
      ],
      "source": [
        "%%time\n",
        "\n",
        "filenames_path= './jokes/'\n",
        "\n",
        "filenames = [f for f in listdir(filenames_path) if '.xls' in f]\n",
        "\n",
        "ratings = []\n",
        "for filename in filenames:\n",
        "    tmp = pd.read_excel(join(filenames_path, filename), \\\n",
        "                        usecols = range(1, 101), header=None)\n",
        "    ratings.append(tmp)\n",
        "\n",
        "ratings = pd.concat(ratings)\n",
        "ratings = ratings.reset_index(drop=True)\n",
        "\n",
        "ratings.columns = range(100)\n",
        "\n",
        "ratings['user_id'] = ratings.index\n",
        "\n",
        "print(ratings.shape)\n",
        "ratings.head()"
      ]
    },
    {
      "cell_type": "code",
      "execution_count": 8,
      "metadata": {
        "id": "5jZOZ3Wbdx_M"
      },
      "outputs": [],
      "source": [
        "# melt:\n",
        "ratings = pd.melt(ratings,\n",
        "                      id_vars=['user_id'],\n",
        "                      value_vars=range(100),\n",
        "                      var_name = 'joke_id',\n",
        "                      value_name = 'rating')"
      ]
    },
    {
      "cell_type": "code",
      "execution_count": 9,
      "metadata": {
        "colab": {
          "base_uri": "https://localhost:8080/",
          "height": 221
        },
        "id": "sdZKqHRBdx_N",
        "outputId": "7f2b089d-c7a9-46cf-954c-6b90b91988b7"
      },
      "outputs": [
        {
          "output_type": "stream",
          "name": "stdout",
          "text": [
            "(4136360, 3)\n"
          ]
        },
        {
          "output_type": "execute_result",
          "data": {
            "text/html": [
              "\n",
              "  <div id=\"df-f2dd0bf7-ec41-4dae-a893-2b59a9973e52\">\n",
              "    <div class=\"colab-df-container\">\n",
              "      <div>\n",
              "<style scoped>\n",
              "    .dataframe tbody tr th:only-of-type {\n",
              "        vertical-align: middle;\n",
              "    }\n",
              "\n",
              "    .dataframe tbody tr th {\n",
              "        vertical-align: top;\n",
              "    }\n",
              "\n",
              "    .dataframe thead th {\n",
              "        text-align: right;\n",
              "    }\n",
              "</style>\n",
              "<table border=\"1\" class=\"dataframe\">\n",
              "  <thead>\n",
              "    <tr style=\"text-align: right;\">\n",
              "      <th></th>\n",
              "      <th>user_id</th>\n",
              "      <th>joke_id</th>\n",
              "      <th>rating</th>\n",
              "    </tr>\n",
              "  </thead>\n",
              "  <tbody>\n",
              "    <tr>\n",
              "      <th>0</th>\n",
              "      <td>0</td>\n",
              "      <td>0</td>\n",
              "      <td>-7.82</td>\n",
              "    </tr>\n",
              "    <tr>\n",
              "      <th>1</th>\n",
              "      <td>1</td>\n",
              "      <td>0</td>\n",
              "      <td>4.08</td>\n",
              "    </tr>\n",
              "    <tr>\n",
              "      <th>4</th>\n",
              "      <td>4</td>\n",
              "      <td>0</td>\n",
              "      <td>8.50</td>\n",
              "    </tr>\n",
              "    <tr>\n",
              "      <th>5</th>\n",
              "      <td>5</td>\n",
              "      <td>0</td>\n",
              "      <td>-6.17</td>\n",
              "    </tr>\n",
              "    <tr>\n",
              "      <th>7</th>\n",
              "      <td>7</td>\n",
              "      <td>0</td>\n",
              "      <td>6.84</td>\n",
              "    </tr>\n",
              "  </tbody>\n",
              "</table>\n",
              "</div>\n",
              "      <button class=\"colab-df-convert\" onclick=\"convertToInteractive('df-f2dd0bf7-ec41-4dae-a893-2b59a9973e52')\"\n",
              "              title=\"Convert this dataframe to an interactive table.\"\n",
              "              style=\"display:none;\">\n",
              "        \n",
              "  <svg xmlns=\"http://www.w3.org/2000/svg\" height=\"24px\"viewBox=\"0 0 24 24\"\n",
              "       width=\"24px\">\n",
              "    <path d=\"M0 0h24v24H0V0z\" fill=\"none\"/>\n",
              "    <path d=\"M18.56 5.44l.94 2.06.94-2.06 2.06-.94-2.06-.94-.94-2.06-.94 2.06-2.06.94zm-11 1L8.5 8.5l.94-2.06 2.06-.94-2.06-.94L8.5 2.5l-.94 2.06-2.06.94zm10 10l.94 2.06.94-2.06 2.06-.94-2.06-.94-.94-2.06-.94 2.06-2.06.94z\"/><path d=\"M17.41 7.96l-1.37-1.37c-.4-.4-.92-.59-1.43-.59-.52 0-1.04.2-1.43.59L10.3 9.45l-7.72 7.72c-.78.78-.78 2.05 0 2.83L4 21.41c.39.39.9.59 1.41.59.51 0 1.02-.2 1.41-.59l7.78-7.78 2.81-2.81c.8-.78.8-2.07 0-2.86zM5.41 20L4 18.59l7.72-7.72 1.47 1.35L5.41 20z\"/>\n",
              "  </svg>\n",
              "      </button>\n",
              "      \n",
              "  <style>\n",
              "    .colab-df-container {\n",
              "      display:flex;\n",
              "      flex-wrap:wrap;\n",
              "      gap: 12px;\n",
              "    }\n",
              "\n",
              "    .colab-df-convert {\n",
              "      background-color: #E8F0FE;\n",
              "      border: none;\n",
              "      border-radius: 50%;\n",
              "      cursor: pointer;\n",
              "      display: none;\n",
              "      fill: #1967D2;\n",
              "      height: 32px;\n",
              "      padding: 0 0 0 0;\n",
              "      width: 32px;\n",
              "    }\n",
              "\n",
              "    .colab-df-convert:hover {\n",
              "      background-color: #E2EBFA;\n",
              "      box-shadow: 0px 1px 2px rgba(60, 64, 67, 0.3), 0px 1px 3px 1px rgba(60, 64, 67, 0.15);\n",
              "      fill: #174EA6;\n",
              "    }\n",
              "\n",
              "    [theme=dark] .colab-df-convert {\n",
              "      background-color: #3B4455;\n",
              "      fill: #D2E3FC;\n",
              "    }\n",
              "\n",
              "    [theme=dark] .colab-df-convert:hover {\n",
              "      background-color: #434B5C;\n",
              "      box-shadow: 0px 1px 3px 1px rgba(0, 0, 0, 0.15);\n",
              "      filter: drop-shadow(0px 1px 2px rgba(0, 0, 0, 0.3));\n",
              "      fill: #FFFFFF;\n",
              "    }\n",
              "  </style>\n",
              "\n",
              "      <script>\n",
              "        const buttonEl =\n",
              "          document.querySelector('#df-f2dd0bf7-ec41-4dae-a893-2b59a9973e52 button.colab-df-convert');\n",
              "        buttonEl.style.display =\n",
              "          google.colab.kernel.accessAllowed ? 'block' : 'none';\n",
              "\n",
              "        async function convertToInteractive(key) {\n",
              "          const element = document.querySelector('#df-f2dd0bf7-ec41-4dae-a893-2b59a9973e52');\n",
              "          const dataTable =\n",
              "            await google.colab.kernel.invokeFunction('convertToInteractive',\n",
              "                                                     [key], {});\n",
              "          if (!dataTable) return;\n",
              "\n",
              "          const docLinkHtml = 'Like what you see? Visit the ' +\n",
              "            '<a target=\"_blank\" href=https://colab.research.google.com/notebooks/data_table.ipynb>data table notebook</a>'\n",
              "            + ' to learn more about interactive tables.';\n",
              "          element.innerHTML = '';\n",
              "          dataTable['output_type'] = 'display_data';\n",
              "          await google.colab.output.renderOutput(dataTable, element);\n",
              "          const docLink = document.createElement('div');\n",
              "          docLink.innerHTML = docLinkHtml;\n",
              "          element.appendChild(docLink);\n",
              "        }\n",
              "      </script>\n",
              "    </div>\n",
              "  </div>\n",
              "  "
            ],
            "text/plain": [
              "   user_id  joke_id  rating\n",
              "0        0        0   -7.82\n",
              "1        1        0    4.08\n",
              "4        4        0    8.50\n",
              "5        5        0   -6.17\n",
              "7        7        0    6.84"
            ]
          },
          "metadata": {},
          "execution_count": 9
        }
      ],
      "source": [
        "# remove unrated: \n",
        "ratings = ratings[ratings.rating != 99.00]\n",
        "\n",
        "print(ratings.shape)\n",
        "\n",
        "ratings['joke_id'] = ratings['joke_id'].astype('int64')\n",
        "\n",
        "ratings.to_pickle('ratings.pkl')\n",
        "\n",
        "ratings.head()"
      ]
    },
    {
      "cell_type": "markdown",
      "metadata": {
        "id": "EMVtNzg2dx_N"
      },
      "source": [
        "###  MODELS"
      ]
    },
    {
      "cell_type": "code",
      "execution_count": 10,
      "metadata": {
        "id": "aZcQVPTydx_O"
      },
      "outputs": [],
      "source": [
        "import collections, random\n",
        "from surprise import Reader, Dataset\n",
        "from surprise.model_selection import KFold\n",
        "from sklearn.model_selection import KFold as SKFold\n",
        "import pandas as pd\n",
        "from surprise import SVD, NMF, SlopeOne\n",
        "import numpy as np\n",
        "pd.set_option('display.float_format', lambda x: '%.2f' % x)\n",
        "from surprise import accuracy"
      ]
    },
    {
      "cell_type": "code",
      "execution_count": 11,
      "metadata": {
        "id": "A_KPwBdcdx_O"
      },
      "outputs": [],
      "source": [
        "ratings = pd.read_pickle('ratings.pkl')\n",
        "jokes = pd.read_pickle('jokes.pkl')\n",
        "jokes_dict = {x[0]: x[1] for x in jokes.values}"
      ]
    },
    {
      "cell_type": "code",
      "execution_count": 12,
      "metadata": {
        "id": "xGwC8XKBdx_P"
      },
      "outputs": [],
      "source": [
        "reader = Reader(rating_scale = (-10, 10))\n",
        "data = Dataset.load_from_df(ratings[['user_id', 'joke_id', 'rating']], reader)"
      ]
    },
    {
      "cell_type": "markdown",
      "metadata": {
        "id": "xYS2TLD8dx_P"
      },
      "source": [
        "###  Коллаборативная фильтрация: SVD, NMF, SlopeOne\n",
        "\n",
        "### Используем cross-валидацию для оценки максимальной RMSE, которой можем достичь той или иной моделью:"
      ]
    },
    {
      "cell_type": "code",
      "execution_count": 13,
      "metadata": {
        "colab": {
          "base_uri": "https://localhost:8080/"
        },
        "id": "3TdTCqjRdx_P",
        "outputId": "8d81f254-dd5c-47d3-8490-aaacbf65932a"
      },
      "outputs": [
        {
          "output_type": "stream",
          "name": "stdout",
          "text": [
            "model: <class 'surprise.prediction_algorithms.matrix_factorization.SVD'>\n",
            "split:0 RMSE: 4.4926\n",
            "split:1 RMSE: 4.4815\n",
            "split:2 RMSE: 4.4890\n",
            "split:3 RMSE: 4.4761\n",
            "split:4 RMSE: 4.4906\n",
            "mean RMSE at the all splits: 4.486\n",
            "\n",
            "model: <class 'surprise.prediction_algorithms.matrix_factorization.NMF'>\n",
            "split:0 RMSE: 7.9622\n",
            "split:1 RMSE: 5.3710\n",
            "split:2 RMSE: 5.3507\n",
            "split:3 RMSE: 6.8625\n",
            "split:4 RMSE: 8.0313\n",
            "mean RMSE at the all splits: 6.7155\n",
            "\n",
            "model: <class 'surprise.prediction_algorithms.slope_one.SlopeOne'>\n",
            "split:0 RMSE: 4.3853\n",
            "split:1 RMSE: 4.3789\n",
            "split:2 RMSE: 4.3841\n",
            "split:3 RMSE: 4.3816\n",
            "split:4 RMSE: 4.3787\n",
            "mean RMSE at the all splits: 4.3817\n",
            "\n",
            "CPU times: user 51min 30s, sys: 17.7 s, total: 51min 48s\n",
            "Wall time: 51min 48s\n"
          ]
        }
      ],
      "source": [
        "%%time\n",
        "\n",
        "kf = KFold(n_splits=5)\n",
        "    \n",
        "for model in [SVD(), NMF(), SlopeOne(), ]:\n",
        "    print(f'model: {model.__class__}')\n",
        "    rmse = []\n",
        "    for ind, [trainset, testset] in enumerate(kf.split(data)):\n",
        "        print(f'split:{ind}', end = ' ' )\n",
        "        model.fit(trainset)\n",
        "        predictions = model.test(testset)\n",
        "    # Root Mean Squared Error :\n",
        "        rmse.append(accuracy.rmse(predictions))\n",
        "    print(f'mean RMSE at the all splits: {np.round(np.mean(rmse), 4)}\\n')"
      ]
    },
    {
      "cell_type": "markdown",
      "metadata": {
        "id": "if422h0pdx_Q"
      },
      "source": [
        "### Т.о. лучшим себя показывает SVD\n",
        "### Подберем гиперапараметры SVD и посмотрим, какое минимальное RMSE удастся достичь"
      ]
    },
    {
      "cell_type": "code",
      "execution_count": 14,
      "metadata": {
        "id": "mY1XOxi_dx_Q"
      },
      "outputs": [],
      "source": [
        "# Будем подбирать гиперпараметры на 20% подвыборки по user_id :\n",
        "\n",
        "n_user_ids = len(ratings.user_id.unique())\n",
        "n_user_ids_subset = random.choices(ratings.user_id.unique(), k=n_user_ids//5)\n",
        "\n",
        "reader = Reader(rating_scale = (-10, 10))\n",
        "data = Dataset.load_from_df(ratings[['user_id', 'joke_id', 'rating']]\\\n",
        "                            [ratings.user_id.isin(n_user_ids_subset)], reader)"
      ]
    },
    {
      "cell_type": "code",
      "execution_count": 15,
      "metadata": {
        "colab": {
          "base_uri": "https://localhost:8080/"
        },
        "id": "P35I4dQSdx_R",
        "outputId": "ccc5ec84-2bce-43e9-deaf-5b4893cfedbd"
      },
      "outputs": [
        {
          "output_type": "stream",
          "name": "stdout",
          "text": [
            "Grid Search...\n"
          ]
        },
        {
          "output_type": "stream",
          "name": "stderr",
          "text": [
            "[Parallel(n_jobs=1)]: Using backend SequentialBackend with 1 concurrent workers.\n"
          ]
        },
        {
          "output_type": "stream",
          "name": "stdout",
          "text": [
            "CPU times: user 1h 42min 14s, sys: 34.1 s, total: 1h 42min 48s\n",
            "Wall time: 1h 42min 45s\n"
          ]
        },
        {
          "output_type": "stream",
          "name": "stderr",
          "text": [
            "[Parallel(n_jobs=1)]: Done 108 out of 108 | elapsed: 102.7min finished\n"
          ]
        }
      ],
      "source": [
        "%%time\n",
        "# Select your best algo with grid search.\n",
        "print('Grid Search...')\n",
        "\n",
        "param_grid = {'n_epochs': [20, 25, 30, 45], 'n_factors':  [100, 120, 130], 'lr_all': [0.003, 0.005, 0.01]}\n",
        "grid_search = GridSearchCV(SVD, param_grid, measures=['rmse'], cv=3, joblib_verbose = 1)\n",
        "grid_search.fit(data)"
      ]
    },
    {
      "cell_type": "code",
      "execution_count": 16,
      "metadata": {
        "colab": {
          "base_uri": "https://localhost:8080/"
        },
        "id": "tnptIPX5dx_R",
        "outputId": "006d9fba-9b03-44f9-d7e0-894c61145b7e"
      },
      "outputs": [
        {
          "output_type": "execute_result",
          "data": {
            "text/plain": [
              "({'rmse': 4.146901143417441},\n",
              " {'rmse': {'lr_all': 0.01, 'n_epochs': 45, 'n_factors': 130}})"
            ]
          },
          "metadata": {},
          "execution_count": 16
        }
      ],
      "source": [
        "grid_search.best_score, grid_search.best_params"
      ]
    },
    {
      "cell_type": "markdown",
      "metadata": {
        "id": "lTRGXo1Hdx_S"
      },
      "source": [
        "###   В качестве модели выбираем SVD с найденными best_params, обучаемся на всех доступных данных:"
      ]
    },
    {
      "cell_type": "code",
      "execution_count": 18,
      "metadata": {
        "colab": {
          "base_uri": "https://localhost:8080/"
        },
        "id": "GQnE3dArdx_S",
        "outputId": "cc91c971-3240-44d5-f377-e6d307920005"
      },
      "outputs": [
        {
          "output_type": "stream",
          "name": "stdout",
          "text": [
            "CPU times: user 2min 2s, sys: 309 ms, total: 2min 2s\n",
            "Wall time: 2min 2s\n"
          ]
        }
      ],
      "source": [
        "%%time\n",
        "trainingSet = data.build_full_trainset()\n",
        "model = grid_search.best_estimator['rmse']\n",
        "model.fit(trainingSet)"
      ]
    },
    {
      "cell_type": "markdown",
      "metadata": {
        "id": "hwQlDRpudx_T"
      },
      "source": [
        "###  Предсказываем rating (est) для всех пар user, joke (uid, iid), которые не присутствуют в тренировочном датасете:"
      ]
    },
    {
      "cell_type": "code",
      "execution_count": 19,
      "metadata": {
        "scrolled": true,
        "colab": {
          "base_uri": "https://localhost:8080/"
        },
        "id": "IOXL06Lgdx_T",
        "outputId": "6228eb5e-b200-49ea-dbf3-9a6effa1df5f"
      },
      "outputs": [
        {
          "output_type": "stream",
          "name": "stdout",
          "text": [
            "CPU times: user 11.7 s, sys: 387 ms, total: 12.1 s\n",
            "Wall time: 11.7 s\n"
          ]
        }
      ],
      "source": [
        "%%time\n",
        "\n",
        "trainingSet = data.build_full_trainset()\n",
        "testingSet = trainingSet.build_anti_testset()\n",
        "predicted = pd.DataFrame(model.test(testingSet))[['uid', 'iid', 'est']]"
      ]
    },
    {
      "cell_type": "markdown",
      "metadata": {
        "id": "52u29iANdx_T"
      },
      "source": [
        "###  Выведем примеры 2 шуток, которые понравились пользователю cо случайным u_id"
      ]
    },
    {
      "cell_type": "code",
      "execution_count": 52,
      "metadata": {
        "colab": {
          "base_uri": "https://localhost:8080/"
        },
        "id": "9FY8Pan0dx_U",
        "outputId": "2d8e367d-00ca-42cd-e3a3-519d06d661d2"
      },
      "outputs": [
        {
          "output_type": "stream",
          "name": "stdout",
          "text": [
            "top-3:\n",
            "\n",
            "est: 6.5:\n",
            "Q: Ever wonder why the IRS calls it Form 1040?  A: Because for every $50 that you earn, you get 10 and they get 40.\n",
            "est: 5.68:\n",
            "One Sunday morning William burst into the living room and said, \"Dad! Mom! I have some great news for you! I am getting married to the most beautiful girl in town. She lives a block away and her name is Susan.\" After dinner, William's dad took him aside. \"Son, I have to talk with you. Your mother and I have been married 30 years.. She's a wonderful wife but she has never offered much excitement in the bedroom, so I used to fool around with women a lot. Susan is actually your half-sister, and I'm afraid you can't marry her.\" William was heart-broken. After eight months he eventually started dating girls again. A year later he came home and very proudly announced, \"Dianne said yes! We're getting married in June.\" Again his father insisted on another private conversation and broke the sad news. \"Dianne is your half-sister too, William. I'm awfully sorry about this.\" William was furious! He finally decided to go to his mother with the news. \"Dad has done so much harm.. I guess I'm never going to get married,\"  he complained. \"Every time I fall in love, Dad tells me the girl is my half-sister.\" His mother just shook her head. \"Don't pay any attention to what he says, dear. He's not really your father.\"\n",
            "est: 4.95:\n",
            "There once was a man and a woman that both  got in  a terrible car wreck. Both of their vehicles   were completely destroyed, buy fortunately, no one  was   hurt.  In thankfulness, the woman said to the  man, 'We are both okay, so we should celebrate. I have   a  bottle of wine in my car, let's open it.'          So the woman got the bottleout of the car, and  handed it to the man. The man took a really big drink,  and handed the woman the bottle. The  woman  closed the bottle and put it down. The man  asked,   'Aren't you going to take a drink?'   The woman cleverly replied,  'No, I think I'll  just  wait for the cops to get here.'\n"
          ]
        }
      ],
      "source": [
        "u_id = random.choice(predicted[predicted.est > 8].uid.unique())\n",
        "u_id\n",
        "\n",
        "def print_jokes (iid_ratings, trainingSet, top_n):\n",
        "    '''\n",
        "    sort iid_ratings descendingly and print top_n - jokes\n",
        "    \n",
        "    Args:\n",
        "    iid_ratings -> rating (est) for each items(iid) (pd.DataFrame, columns: 'iid', 'est')\n",
        "    trainingSet -> trainingset built via: data.build_full_trainset() (surprise.trainset.Trainset)\n",
        "    top_n -> nof tops (int)\n",
        "\n",
        "    '''\n",
        "\n",
        "    print(f'top-{top_n}:\\n')\n",
        "    iid_ratings = iid_ratings.sort_values('est', ascending = False)[:top_n]\n",
        "    for _, row in iid_ratings.iterrows():\n",
        "        print(f'est: {round(row.est, 2)}:')\n",
        "        joke_id = trainingSet.to_raw_iid(row.iid)\n",
        "        jokes_text = jokes_dict[joke_id]\n",
        "        print(f'{jokes_text}', end = '\\n')\n",
        "\n",
        "iid_ratings = pd.DataFrame(trainingSet.ur[u_id], columns = ['iid', 'est'])\n",
        "print_jokes(iid_ratings, trainingSet, 3)"
      ]
    },
    {
      "cell_type": "code",
      "execution_count": 53,
      "metadata": {
        "colab": {
          "base_uri": "https://localhost:8080/"
        },
        "id": "iS0jeoMKdx_V",
        "outputId": "0a565658-38bd-460f-9e6a-a12529c506d7"
      },
      "outputs": [
        {
          "output_type": "stream",
          "name": "stdout",
          "text": [
            "top-3:\n",
            "\n",
            "est: 8.1:\n",
            "On the first day of college, the Dean addressed the students, pointing out some of the rules:  \"The female dormitory will be out-of-bounds for all male students and the male dormitory to the female students. Anybody caught breaking this rule will be finded $20 the first time.\" He continued, \"Anybody  caught breaking this rule the second time will be fined $60. Being caught a third time will cost you a fine of $180. Are there any questions ?\"  At this point, a male student in the crowd inquired: \"How much for a season pass ?\"\n",
            "est: 7.69:\n",
            "There was an engineer who had an exceptional gift for fixing all  things mechanical.  After serving his company loyally for over 30  years, he happily retired.  Several years later the company contacted  him regarding a seemingly impossible problem they were having with  one of their multi-million dollar machines. They had tried everything and  everyone else to get the machine fixed, but to no avail.  In  desperation, they called on the retired engineer who had solved so  many of their problems in the past. The engineer reluctantly took the challenge.  He spent a day studying  the huge machine.  At the end of the day, he marked a small \"x\" in  chalk on a particular component of the machine and proudly stated,  \"This is where your problem is\". The part was replaced and the machine worked perfectly again. The  company received a bill for $50,000 from the engineer for his  service.They demanded an itemized accounting of his charges. The  engineer responded briefly: One chalk mark                       $1  Knowing where to put it            $49,999 It was paid in full and the engineer retired again in peace.\n",
            "est: 7.64:\n",
            "A guy stood over his tee shot for what seemed an eternity, looking up, looking down, measuring the distance, figuring the wind direction and speed. Driving his partner nuts.  Finally his exasperated partner says, \"What the hell is taking so long? Hit the goddamn ball!\" The guy answers, \"My wife is up there watching me from the clubhouse. I want to make this a perfect shot.\" \"Well, hell, man, you don't stand a snowball's chance in hell of hitting her from here!\"\n"
          ]
        }
      ],
      "source": [
        "# Получаем предсказания для данного u_id:\n",
        "iid_ratings_predicted = predicted[predicted.uid == u_id][['iid', 'est']]\n",
        "print_jokes(iid_ratings_predicted, trainingSet, 3)"
      ]
    },
    {
      "cell_type": "markdown",
      "metadata": {
        "id": "n4dVL-h1dx_V"
      },
      "source": [
        "### Для того, чтобы оценить качество ранжирования рекомендаций шуток посчитаем precision_recall_at_k"
      ]
    },
    {
      "cell_type": "markdown",
      "metadata": {
        "id": "GkaXrU5Xdx_V"
      },
      "source": [
        "![image.png](attachment:image.png)"
      ]
    },
    {
      "cell_type": "code",
      "execution_count": 54,
      "metadata": {
        "scrolled": true,
        "colab": {
          "base_uri": "https://localhost:8080/"
        },
        "id": "AG0KD7_Udx_W",
        "outputId": "ea0bd0eb-5719-4534-e86b-22c6fbf0c028"
      },
      "outputs": [
        {
          "output_type": "stream",
          "name": "stdout",
          "text": [
            "split 0: mean_precision_on_10: 0.6646490458891794 mean_recall_on_10: 0.6249621934466083\n",
            "split 1: mean_precision_on_10: 0.662302659963719 mean_recall_on_10: 0.6217573994481208\n",
            "split 2: mean_precision_on_10: 0.6668361591026292 mean_recall_on_10: 0.6250173811464758\n",
            "split 3: mean_precision_on_10: 0.6675292151098566 mean_recall_on_10: 0.6250278475173471\n",
            "split 4: mean_precision_on_10: 0.6659795655944296 mean_recall_on_10: 0.6253121014875337\n",
            "mean_recall_on_10_avarage: 0.6654593291319627, mean_recall_on_10_avarage: 0.6244153846092171\n",
            "CPU times: user 13min 49s, sys: 6.37 s, total: 13min 55s\n",
            "Wall time: 13min 56s\n"
          ]
        }
      ],
      "source": [
        "%%time\n",
        "\n",
        "k = 10\n",
        "threshold = 5\n",
        "\n",
        "def precision_recall_at_k(predictions, k = k, threshold = threshold):\n",
        "    '''\n",
        "    Return precision and recall at k metrics for each user\n",
        "    \n",
        "    Args:\n",
        "    predictions -> rating (est) for each items(iid) (pd.DataFrame, columns: 'iid', 'est')\n",
        "    k -> nof tops (int)\n",
        "    threshold -> rating threshold (float)\n",
        "    \n",
        "    Returns:\n",
        "    dict, dict\n",
        "    '''\n",
        "    precisions = dict()\n",
        "    recalls = dict()\n",
        "    for uid in predictions['uid'].unique():\n",
        "        uid_df = predictions[predictions.uid == uid]\n",
        "        uid_df_top_k = uid_df.sort_values('est', ascending=False).iloc[:k]\n",
        "        # Number of relevant items:\n",
        "        n_rel = len(uid_df[uid_df.r_ui > threshold])\n",
        "        # Number of recommended items in top k:\n",
        "        n_rec_k = len(uid_df_top_k[uid_df_top_k.est > threshold])\n",
        "        # Number of relevant and recommended items in top k:\n",
        "        n_rel_and_rec_k = len(uid_df_top_k[(uid_df_top_k.est > threshold)&(uid_df_top_k.r_ui > threshold)])\n",
        "        # Precision@K: Proportion of recommended items that are relevant\n",
        "        # When n_rec_k is 0, Precision is undefined. We here set it to 0.\n",
        "        precisions[uid] = n_rel_and_rec_k / n_rec_k if n_rec_k != 0 else 0\n",
        "        # Recall@K: Proportion of relevant items that are recommended\n",
        "        # When n_rel is 0, Recall is undefined. We here set it to 0.\n",
        "        recalls[uid] = n_rel_and_rec_k / n_rel if n_rel != 0 else 0\n",
        "    return precisions, recalls\n",
        "\n",
        "kf = KFold(n_splits = 5)\n",
        "\n",
        "mp_on_ks = []\n",
        "mr_on_ks = []\n",
        "\n",
        "for ind, [trainset, testset] in enumerate(kf.split(data)):\n",
        "    print(f'split {ind}:', end = ' ')\n",
        "    model.fit(trainset)\n",
        "    predictions = model.test(testset)\n",
        "    predictions = pd.DataFrame(predictions)\n",
        "    precisions, recalls = precision_recall_at_k(predictions, k=k, threshold=0)\n",
        "    # Precision and recall averaged over all users:\n",
        "    mp_on_k = sum(prec for prec in precisions.values()) / len(precisions)\n",
        "    mr_on_k = sum(rec for rec in recalls.values()) / len(recalls) \n",
        "    print(f'mean_precision_on_{k}: {mp_on_k}', end =' ')\n",
        "    print(f'mean_recall_on_{k}: {mr_on_k}')\n",
        "    mp_on_ks.append(mp_on_k)\n",
        "    mr_on_ks.append(mr_on_k)\n",
        "\n",
        "print(f'mean_recall_on_{k}_avarage: {np.mean(mp_on_ks)}, mean_recall_on_{k}_avarage: {np.mean(mr_on_ks)}')"
      ]
    },
    {
      "cell_type": "markdown",
      "metadata": {
        "id": "PT45Mmvjdx_W"
      },
      "source": [
        "# Проблемы \"Холодного старта\":\n",
        "\n",
        "\n",
        "### 1. Что делать в случае, если появляется новый user, который ничего не оценивал или оценил еще слишком мало?"
      ]
    },
    {
      "cell_type": "markdown",
      "metadata": {
        "id": "u_EtJsQQdx_X"
      },
      "source": [
        "# Popular-based model"
      ]
    },
    {
      "cell_type": "markdown",
      "metadata": {
        "id": "oLFO9uxSdx_X"
      },
      "source": [
        "### Получаем для каждой joke_id общее количество оценок и средний рейтинг: "
      ]
    },
    {
      "cell_type": "code",
      "execution_count": 66,
      "metadata": {
        "colab": {
          "base_uri": "https://localhost:8080/",
          "height": 204
        },
        "id": "wSwLAA1Jdx_X",
        "outputId": "30c51d9e-d927-44e3-d90b-c684028046b3"
      },
      "outputs": [
        {
          "output_type": "execute_result",
          "data": {
            "text/html": [
              "\n",
              "  <div id=\"df-6bb83fc1-2788-4bb7-872b-533e1b955a40\">\n",
              "    <div class=\"colab-df-container\">\n",
              "      <div>\n",
              "<style scoped>\n",
              "    .dataframe tbody tr th:only-of-type {\n",
              "        vertical-align: middle;\n",
              "    }\n",
              "\n",
              "    .dataframe tbody tr th {\n",
              "        vertical-align: top;\n",
              "    }\n",
              "\n",
              "    .dataframe thead th {\n",
              "        text-align: right;\n",
              "    }\n",
              "</style>\n",
              "<table border=\"1\" class=\"dataframe\">\n",
              "  <thead>\n",
              "    <tr style=\"text-align: right;\">\n",
              "      <th></th>\n",
              "      <th>joke_id</th>\n",
              "      <th>rating_average</th>\n",
              "      <th>rating_count</th>\n",
              "    </tr>\n",
              "  </thead>\n",
              "  <tbody>\n",
              "    <tr>\n",
              "      <th>0</th>\n",
              "      <td>0</td>\n",
              "      <td>0.90</td>\n",
              "      <td>32024</td>\n",
              "    </tr>\n",
              "    <tr>\n",
              "      <th>1</th>\n",
              "      <td>1</td>\n",
              "      <td>0.16</td>\n",
              "      <td>35277</td>\n",
              "    </tr>\n",
              "    <tr>\n",
              "      <th>2</th>\n",
              "      <td>2</td>\n",
              "      <td>0.19</td>\n",
              "      <td>32402</td>\n",
              "    </tr>\n",
              "    <tr>\n",
              "      <th>3</th>\n",
              "      <td>3</td>\n",
              "      <td>-1.41</td>\n",
              "      <td>30512</td>\n",
              "    </tr>\n",
              "    <tr>\n",
              "      <th>4</th>\n",
              "      <td>4</td>\n",
              "      <td>0.24</td>\n",
              "      <td>73405</td>\n",
              "    </tr>\n",
              "  </tbody>\n",
              "</table>\n",
              "</div>\n",
              "      <button class=\"colab-df-convert\" onclick=\"convertToInteractive('df-6bb83fc1-2788-4bb7-872b-533e1b955a40')\"\n",
              "              title=\"Convert this dataframe to an interactive table.\"\n",
              "              style=\"display:none;\">\n",
              "        \n",
              "  <svg xmlns=\"http://www.w3.org/2000/svg\" height=\"24px\"viewBox=\"0 0 24 24\"\n",
              "       width=\"24px\">\n",
              "    <path d=\"M0 0h24v24H0V0z\" fill=\"none\"/>\n",
              "    <path d=\"M18.56 5.44l.94 2.06.94-2.06 2.06-.94-2.06-.94-.94-2.06-.94 2.06-2.06.94zm-11 1L8.5 8.5l.94-2.06 2.06-.94-2.06-.94L8.5 2.5l-.94 2.06-2.06.94zm10 10l.94 2.06.94-2.06 2.06-.94-2.06-.94-.94-2.06-.94 2.06-2.06.94z\"/><path d=\"M17.41 7.96l-1.37-1.37c-.4-.4-.92-.59-1.43-.59-.52 0-1.04.2-1.43.59L10.3 9.45l-7.72 7.72c-.78.78-.78 2.05 0 2.83L4 21.41c.39.39.9.59 1.41.59.51 0 1.02-.2 1.41-.59l7.78-7.78 2.81-2.81c.8-.78.8-2.07 0-2.86zM5.41 20L4 18.59l7.72-7.72 1.47 1.35L5.41 20z\"/>\n",
              "  </svg>\n",
              "      </button>\n",
              "      \n",
              "  <style>\n",
              "    .colab-df-container {\n",
              "      display:flex;\n",
              "      flex-wrap:wrap;\n",
              "      gap: 12px;\n",
              "    }\n",
              "\n",
              "    .colab-df-convert {\n",
              "      background-color: #E8F0FE;\n",
              "      border: none;\n",
              "      border-radius: 50%;\n",
              "      cursor: pointer;\n",
              "      display: none;\n",
              "      fill: #1967D2;\n",
              "      height: 32px;\n",
              "      padding: 0 0 0 0;\n",
              "      width: 32px;\n",
              "    }\n",
              "\n",
              "    .colab-df-convert:hover {\n",
              "      background-color: #E2EBFA;\n",
              "      box-shadow: 0px 1px 2px rgba(60, 64, 67, 0.3), 0px 1px 3px 1px rgba(60, 64, 67, 0.15);\n",
              "      fill: #174EA6;\n",
              "    }\n",
              "\n",
              "    [theme=dark] .colab-df-convert {\n",
              "      background-color: #3B4455;\n",
              "      fill: #D2E3FC;\n",
              "    }\n",
              "\n",
              "    [theme=dark] .colab-df-convert:hover {\n",
              "      background-color: #434B5C;\n",
              "      box-shadow: 0px 1px 3px 1px rgba(0, 0, 0, 0.15);\n",
              "      filter: drop-shadow(0px 1px 2px rgba(0, 0, 0, 0.3));\n",
              "      fill: #FFFFFF;\n",
              "    }\n",
              "  </style>\n",
              "\n",
              "      <script>\n",
              "        const buttonEl =\n",
              "          document.querySelector('#df-6bb83fc1-2788-4bb7-872b-533e1b955a40 button.colab-df-convert');\n",
              "        buttonEl.style.display =\n",
              "          google.colab.kernel.accessAllowed ? 'block' : 'none';\n",
              "\n",
              "        async function convertToInteractive(key) {\n",
              "          const element = document.querySelector('#df-6bb83fc1-2788-4bb7-872b-533e1b955a40');\n",
              "          const dataTable =\n",
              "            await google.colab.kernel.invokeFunction('convertToInteractive',\n",
              "                                                     [key], {});\n",
              "          if (!dataTable) return;\n",
              "\n",
              "          const docLinkHtml = 'Like what you see? Visit the ' +\n",
              "            '<a target=\"_blank\" href=https://colab.research.google.com/notebooks/data_table.ipynb>data table notebook</a>'\n",
              "            + ' to learn more about interactive tables.';\n",
              "          element.innerHTML = '';\n",
              "          dataTable['output_type'] = 'display_data';\n",
              "          await google.colab.output.renderOutput(dataTable, element);\n",
              "          const docLink = document.createElement('div');\n",
              "          docLink.innerHTML = docLinkHtml;\n",
              "          element.appendChild(docLink);\n",
              "        }\n",
              "      </script>\n",
              "    </div>\n",
              "  </div>\n",
              "  "
            ],
            "text/plain": [
              "   joke_id  rating_average  rating_count\n",
              "0        0            0.90         32024\n",
              "1        1            0.16         35277\n",
              "2        2            0.19         32402\n",
              "3        3           -1.41         30512\n",
              "4        4            0.24         73405"
            ]
          },
          "metadata": {},
          "execution_count": 66
        }
      ],
      "source": [
        "ratings_grouped = ratings.groupby('joke_id')['rating'].agg({'mean', 'size'})\\\n",
        ".rename(columns = {'mean': 'rating_average','size': 'rating_count' }).reset_index()\n",
        "\n",
        "ratings_grouped.head()"
      ]
    },
    {
      "cell_type": "code",
      "execution_count": 67,
      "metadata": {
        "colab": {
          "base_uri": "https://localhost:8080/",
          "height": 282
        },
        "id": "fwYfCkZXdx_Y",
        "outputId": "c3632364-5a2b-400a-c33f-b1aabd9ed3f7"
      },
      "outputs": [
        {
          "output_type": "execute_result",
          "data": {
            "text/plain": [
              "<matplotlib.axes._subplots.AxesSubplot at 0x7f9660afffd0>"
            ]
          },
          "metadata": {},
          "execution_count": 67
        },
        {
          "output_type": "display_data",
          "data": {
            "image/png": "[encoded data removed]",
            "text/plain": [
              "<Figure size 432x288 with 1 Axes>"
            ]
          },
          "metadata": {
            "needs_background": "light"
          }
        }
      ],
      "source": [
        "ratings_grouped['rating_average'].hist(bins=50)"
      ]
    },
    {
      "cell_type": "code",
      "execution_count": 68,
      "metadata": {
        "colab": {
          "base_uri": "https://localhost:8080/"
        },
        "id": "uybk4zifdx_Y",
        "outputId": "9b8f3850-92a9-434a-ff04-ba8f97995f5e"
      },
      "outputs": [
        {
          "output_type": "stream",
          "name": "stdout",
          "text": [
            "average rating for the whole dataset: 0.7020177018236599\n"
          ]
        }
      ],
      "source": [
        "C = ratings_grouped['rating_average'].mean()\n",
        "print(f'average rating for the whole dataset: {C}')"
      ]
    },
    {
      "cell_type": "code",
      "execution_count": 69,
      "metadata": {
        "colab": {
          "base_uri": "https://localhost:8080/",
          "height": 282
        },
        "id": "b4y-Kr9Bdx_Y",
        "outputId": "e31e252a-7b0b-46b2-aab0-6d75b16c1aa2"
      },
      "outputs": [
        {
          "output_type": "execute_result",
          "data": {
            "text/plain": [
              "<matplotlib.axes._subplots.AxesSubplot at 0x7f96234f7610>"
            ]
          },
          "metadata": {},
          "execution_count": 69
        },
        {
          "output_type": "display_data",
          "data": {
            "image/png": "[encoded data removed]",
            "text/plain": [
              "<Figure size 432x288 with 1 Axes>"
            ]
          },
          "metadata": {
            "needs_background": "light"
          }
        }
      ],
      "source": [
        "ratings_grouped['rating_count'].hist(bins=50)"
      ]
    },
    {
      "cell_type": "code",
      "execution_count": 70,
      "metadata": {
        "colab": {
          "base_uri": "https://localhost:8080/"
        },
        "id": "Ylt5Rgh0dx_Z",
        "outputId": "82e2bf57-50eb-4e0b-fcd1-5d2e3c27c9d8"
      },
      "outputs": [
        {
          "output_type": "stream",
          "name": "stdout",
          "text": [
            "minimum votes required to be classified as popular: 18505\n"
          ]
        }
      ],
      "source": [
        "m = ratings_grouped['rating_count'].min()\n",
        "print(f'minimum votes required to be classified as popular: {m}')"
      ]
    },
    {
      "cell_type": "markdown",
      "metadata": {
        "id": "u1VxB_hEdx_Z"
      },
      "source": [
        "### Подсчитаем взвешенные рейтинги шуток по формуле IMDB:"
      ]
    },
    {
      "cell_type": "code",
      "execution_count": 71,
      "metadata": {
        "scrolled": true,
        "colab": {
          "base_uri": "https://localhost:8080/",
          "height": 828
        },
        "id": "ngBNyGYNdx_Z",
        "outputId": "00784412-ed7d-4f7e-a952-48b3b73e7f53"
      },
      "outputs": [
        {
          "output_type": "execute_result",
          "data": {
            "text/html": [
              "\n",
              "  <div id=\"df-bcdd7d4b-04ae-4987-b8c2-a594c5bcfb07\">\n",
              "    <div class=\"colab-df-container\">\n",
              "      <div>\n",
              "<style scoped>\n",
              "    .dataframe tbody tr th:only-of-type {\n",
              "        vertical-align: middle;\n",
              "    }\n",
              "\n",
              "    .dataframe tbody tr th {\n",
              "        vertical-align: top;\n",
              "    }\n",
              "\n",
              "    .dataframe thead th {\n",
              "        text-align: right;\n",
              "    }\n",
              "</style>\n",
              "<table border=\"1\" class=\"dataframe\">\n",
              "  <thead>\n",
              "    <tr style=\"text-align: right;\">\n",
              "      <th></th>\n",
              "      <th>joke_id</th>\n",
              "      <th>rating_average</th>\n",
              "      <th>rating_count</th>\n",
              "      <th>weighted_rating</th>\n",
              "      <th>text</th>\n",
              "    </tr>\n",
              "  </thead>\n",
              "  <tbody>\n",
              "    <tr>\n",
              "      <th>49</th>\n",
              "      <td>49</td>\n",
              "      <td>3.36</td>\n",
              "      <td>70449</td>\n",
              "      <td>2.81</td>\n",
              "      <td>A guy goes into confession and says to the priest, \"Father, I'm 80 years old, widower, with 11 grandchildren. Last night I met two beautiful flight attendants. They took me home and I made love to both of them. Twice.\"  The priest said: \"Well, my son, when was the last time you were in confession?\"  \"Never Father, I'm Jewish.\"  \"So then, why are you telling me?\"  \"I'm telling everybody.\"</td>\n",
              "    </tr>\n",
              "    <tr>\n",
              "      <th>31</th>\n",
              "      <td>31</td>\n",
              "      <td>2.97</td>\n",
              "      <td>66300</td>\n",
              "      <td>2.48</td>\n",
              "      <td>A man arrives at the gates of heaven. St. Peter asks, \"Religion?\"  The man says, \"Methodist.\" St. Peter looks down his list, and says,  \"Go to room 24, but be very quiet as you pass room 8.\"   Another man arrives at the gates of heaven. \"Religion?\" \"Baptist.\" \"Go to room 18, but be very quiet as you pass room 8.\"   A third man arrives at the gates. \"Religion?\" \"Jewish.\" \"Go to room 11, but be ...</td>\n",
              "    </tr>\n",
              "    <tr>\n",
              "      <th>35</th>\n",
              "      <td>35</td>\n",
              "      <td>2.92</td>\n",
              "      <td>68137</td>\n",
              "      <td>2.44</td>\n",
              "      <td>A guy walks into a bar, orders a beer and says to the bartender, \"Hey, I got this great Polish Joke...\"   The barkeep glares at him and says in a warning tone of voice: \"Before you go telling that joke you better know that I'm Polish, both bouncers are Polish and so are most of my customers\"  \"Okay\" says the customer,\"I'll tell it very slowly.\"</td>\n",
              "    </tr>\n",
              "    <tr>\n",
              "      <th>26</th>\n",
              "      <td>26</td>\n",
              "      <td>2.91</td>\n",
              "      <td>67718</td>\n",
              "      <td>2.43</td>\n",
              "      <td>Clinton returns from a vacation in Arkansas and walks down  the steps of Air Force One with two pigs under his arms.  At the bottom of the steps, he says  to the honor guardsman, \"These are genuine Arkansas Razor-Back Hogs.  I got this one for Chelsea and this one for Hillary.\"    The guardsman replies, \"Nice trade, Sir.\"</td>\n",
              "    </tr>\n",
              "    <tr>\n",
              "      <th>34</th>\n",
              "      <td>34</td>\n",
              "      <td>2.78</td>\n",
              "      <td>66460</td>\n",
              "      <td>2.32</td>\n",
              "      <td>An explorer in the deepest Amazon suddenly finds himself surrounded by a bloodthirsty group of natives. Upon surveying the situation, he says quietly to himself, \"Oh God, I'm screwed.\"   The sky darkens and a voice booms out, \"No, you are NOT screwed. Pick up that stone at your feet and bash in the head of the chief standing in front of you.\"   So with the stone he bashes the life out of the c...</td>\n",
              "    </tr>\n",
              "    <tr>\n",
              "      <th>61</th>\n",
              "      <td>61</td>\n",
              "      <td>2.68</td>\n",
              "      <td>63574</td>\n",
              "      <td>2.23</td>\n",
              "      <td>A group of  managers were given the assignment to measure the height of a flagpole. So they go out to the flagpole with ladders and tape measures, and they're falling off the ladders, dropping the tape measures - the whole thing is just a mess. An engineer comes along and sees what they're trying to do, walks over, pulls the flagpole out of the ground, lays it flat, measures it from end to end...</td>\n",
              "    </tr>\n",
              "    <tr>\n",
              "      <th>28</th>\n",
              "      <td>28</td>\n",
              "      <td>2.62</td>\n",
              "      <td>67065</td>\n",
              "      <td>2.20</td>\n",
              "      <td>An old Scotsmen is sitting with a younger Scottish gentleman and says the boy.  \"Ah, lad look out that window. You see that stone wall there, I built it with me own bare hands, placed every stone meself.  But do they call me MacGregor the wall builder? No!   He Takes a few sips of his beer then says, \"Aye, and look out on that lake and  eye that beautiful pier. I built it meself, laid every bo...</td>\n",
              "    </tr>\n",
              "    <tr>\n",
              "      <th>52</th>\n",
              "      <td>52</td>\n",
              "      <td>2.55</td>\n",
              "      <td>67068</td>\n",
              "      <td>2.15</td>\n",
              "      <td>One Sunday morning William burst into the living room and said, \"Dad! Mom! I have some great news for you! I am getting married to the most beautiful girl in town. She lives a block away and her name is Susan.\" After dinner, William's dad took him aside. \"Son, I have to talk with you. Your mother and I have been married 30 years.. She's a wonderful wife but she has never offered much excitemen...</td>\n",
              "    </tr>\n",
              "    <tr>\n",
              "      <th>48</th>\n",
              "      <td>48</td>\n",
              "      <td>2.52</td>\n",
              "      <td>60608</td>\n",
              "      <td>2.09</td>\n",
              "      <td>Three engineering students were gathered together discussing the possible designers of the human body.   One said, \"It was a mechanical engineer. Just look at all the joints.\"   Another said, \"No, it was an electrical engineer.  The nervous systems many thousands of electrical connections.\"   The last said, \"Actually it was a civil engineer. Who else would run a toxic waste pipeline through a ...</td>\n",
              "    </tr>\n",
              "    <tr>\n",
              "      <th>88</th>\n",
              "      <td>88</td>\n",
              "      <td>3.35</td>\n",
              "      <td>20443</td>\n",
              "      <td>2.09</td>\n",
              "      <td>A radio conversation of a US naval  ship with Canadian authorities ...   Americans: Please divert your course 15 degrees to the North to avoid a collision.  Canadians: Recommend you divert YOUR course 15 degrees to the South to  avoid a collision.  Americans: This is the Captain of a US Navy ship.  I say again, divert  YOUR course.  Canadians: No.  I say again, you divert YOUR course.  America...</td>\n",
              "    </tr>\n",
              "  </tbody>\n",
              "</table>\n",
              "</div>\n",
              "      <button class=\"colab-df-convert\" onclick=\"convertToInteractive('df-bcdd7d4b-04ae-4987-b8c2-a594c5bcfb07')\"\n",
              "              title=\"Convert this dataframe to an interactive table.\"\n",
              "              style=\"display:none;\">\n",
              "        \n",
              "  <svg xmlns=\"http://www.w3.org/2000/svg\" height=\"24px\"viewBox=\"0 0 24 24\"\n",
              "       width=\"24px\">\n",
              "    <path d=\"M0 0h24v24H0V0z\" fill=\"none\"/>\n",
              "    <path d=\"M18.56 5.44l.94 2.06.94-2.06 2.06-.94-2.06-.94-.94-2.06-.94 2.06-2.06.94zm-11 1L8.5 8.5l.94-2.06 2.06-.94-2.06-.94L8.5 2.5l-.94 2.06-2.06.94zm10 10l.94 2.06.94-2.06 2.06-.94-2.06-.94-.94-2.06-.94 2.06-2.06.94z\"/><path d=\"M17.41 7.96l-1.37-1.37c-.4-.4-.92-.59-1.43-.59-.52 0-1.04.2-1.43.59L10.3 9.45l-7.72 7.72c-.78.78-.78 2.05 0 2.83L4 21.41c.39.39.9.59 1.41.59.51 0 1.02-.2 1.41-.59l7.78-7.78 2.81-2.81c.8-.78.8-2.07 0-2.86zM5.41 20L4 18.59l7.72-7.72 1.47 1.35L5.41 20z\"/>\n",
              "  </svg>\n",
              "      </button>\n",
              "      \n",
              "  <style>\n",
              "    .colab-df-container {\n",
              "      display:flex;\n",
              "      flex-wrap:wrap;\n",
              "      gap: 12px;\n",
              "    }\n",
              "\n",
              "    .colab-df-convert {\n",
              "      background-color: #E8F0FE;\n",
              "      border: none;\n",
              "      border-radius: 50%;\n",
              "      cursor: pointer;\n",
              "      display: none;\n",
              "      fill: #1967D2;\n",
              "      height: 32px;\n",
              "      padding: 0 0 0 0;\n",
              "      width: 32px;\n",
              "    }\n",
              "\n",
              "    .colab-df-convert:hover {\n",
              "      background-color: #E2EBFA;\n",
              "      box-shadow: 0px 1px 2px rgba(60, 64, 67, 0.3), 0px 1px 3px 1px rgba(60, 64, 67, 0.15);\n",
              "      fill: #174EA6;\n",
              "    }\n",
              "\n",
              "    [theme=dark] .colab-df-convert {\n",
              "      background-color: #3B4455;\n",
              "      fill: #D2E3FC;\n",
              "    }\n",
              "\n",
              "    [theme=dark] .colab-df-convert:hover {\n",
              "      background-color: #434B5C;\n",
              "      box-shadow: 0px 1px 3px 1px rgba(0, 0, 0, 0.15);\n",
              "      filter: drop-shadow(0px 1px 2px rgba(0, 0, 0, 0.3));\n",
              "      fill: #FFFFFF;\n",
              "    }\n",
              "  </style>\n",
              "\n",
              "      <script>\n",
              "        const buttonEl =\n",
              "          document.querySelector('#df-bcdd7d4b-04ae-4987-b8c2-a594c5bcfb07 button.colab-df-convert');\n",
              "        buttonEl.style.display =\n",
              "          google.colab.kernel.accessAllowed ? 'block' : 'none';\n",
              "\n",
              "        async function convertToInteractive(key) {\n",
              "          const element = document.querySelector('#df-bcdd7d4b-04ae-4987-b8c2-a594c5bcfb07');\n",
              "          const dataTable =\n",
              "            await google.colab.kernel.invokeFunction('convertToInteractive',\n",
              "                                                     [key], {});\n",
              "          if (!dataTable) return;\n",
              "\n",
              "          const docLinkHtml = 'Like what you see? Visit the ' +\n",
              "            '<a target=\"_blank\" href=https://colab.research.google.com/notebooks/data_table.ipynb>data table notebook</a>'\n",
              "            + ' to learn more about interactive tables.';\n",
              "          element.innerHTML = '';\n",
              "          dataTable['output_type'] = 'display_data';\n",
              "          await google.colab.output.renderOutput(dataTable, element);\n",
              "          const docLink = document.createElement('div');\n",
              "          docLink.innerHTML = docLinkHtml;\n",
              "          element.appendChild(docLink);\n",
              "        }\n",
              "      </script>\n",
              "    </div>\n",
              "  </div>\n",
              "  "
            ],
            "text/plain": [
              "    joke_id  ...                                                                                                                                                                                                                                                                                                                                                                                                             text\n",
              "49       49  ...           A guy goes into confession and says to the priest, \"Father, I'm 80 years old, widower, with 11 grandchildren. Last night I met two beautiful flight attendants. They took me home and I made love to both of them. Twice.\"  The priest said: \"Well, my son, when was the last time you were in confession?\"  \"Never Father, I'm Jewish.\"  \"So then, why are you telling me?\"  \"I'm telling everybody.\"\n",
              "31       31  ...  A man arrives at the gates of heaven. St. Peter asks, \"Religion?\"  The man says, \"Methodist.\" St. Peter looks down his list, and says,  \"Go to room 24, but be very quiet as you pass room 8.\"   Another man arrives at the gates of heaven. \"Religion?\" \"Baptist.\" \"Go to room 18, but be very quiet as you pass room 8.\"   A third man arrives at the gates. \"Religion?\" \"Jewish.\" \"Go to room 11, but be ...\n",
              "35       35  ...                                                       A guy walks into a bar, orders a beer and says to the bartender, \"Hey, I got this great Polish Joke...\"   The barkeep glares at him and says in a warning tone of voice: \"Before you go telling that joke you better know that I'm Polish, both bouncers are Polish and so are most of my customers\"  \"Okay\" says the customer,\"I'll tell it very slowly.\"\n",
              "26       26  ...                                                                              Clinton returns from a vacation in Arkansas and walks down  the steps of Air Force One with two pigs under his arms.  At the bottom of the steps, he says  to the honor guardsman, \"These are genuine Arkansas Razor-Back Hogs.  I got this one for Chelsea and this one for Hillary.\"    The guardsman replies, \"Nice trade, Sir.\"\n",
              "34       34  ...  An explorer in the deepest Amazon suddenly finds himself surrounded by a bloodthirsty group of natives. Upon surveying the situation, he says quietly to himself, \"Oh God, I'm screwed.\"   The sky darkens and a voice booms out, \"No, you are NOT screwed. Pick up that stone at your feet and bash in the head of the chief standing in front of you.\"   So with the stone he bashes the life out of the c...\n",
              "61       61  ...  A group of  managers were given the assignment to measure the height of a flagpole. So they go out to the flagpole with ladders and tape measures, and they're falling off the ladders, dropping the tape measures - the whole thing is just a mess. An engineer comes along and sees what they're trying to do, walks over, pulls the flagpole out of the ground, lays it flat, measures it from end to end...\n",
              "28       28  ...  An old Scotsmen is sitting with a younger Scottish gentleman and says the boy.  \"Ah, lad look out that window. You see that stone wall there, I built it with me own bare hands, placed every stone meself.  But do they call me MacGregor the wall builder? No!   He Takes a few sips of his beer then says, \"Aye, and look out on that lake and  eye that beautiful pier. I built it meself, laid every bo...\n",
              "52       52  ...  One Sunday morning William burst into the living room and said, \"Dad! Mom! I have some great news for you! I am getting married to the most beautiful girl in town. She lives a block away and her name is Susan.\" After dinner, William's dad took him aside. \"Son, I have to talk with you. Your mother and I have been married 30 years.. She's a wonderful wife but she has never offered much excitemen...\n",
              "48       48  ...  Three engineering students were gathered together discussing the possible designers of the human body.   One said, \"It was a mechanical engineer. Just look at all the joints.\"   Another said, \"No, it was an electrical engineer.  The nervous systems many thousands of electrical connections.\"   The last said, \"Actually it was a civil engineer. Who else would run a toxic waste pipeline through a ...\n",
              "88       88  ...  A radio conversation of a US naval  ship with Canadian authorities ...   Americans: Please divert your course 15 degrees to the North to avoid a collision.  Canadians: Recommend you divert YOUR course 15 degrees to the South to  avoid a collision.  Americans: This is the Captain of a US Navy ship.  I say again, divert  YOUR course.  Canadians: No.  I say again, you divert YOUR course.  America...\n",
              "\n",
              "[10 rows x 5 columns]"
            ]
          },
          "metadata": {},
          "execution_count": 71
        }
      ],
      "source": [
        "def weighted_rating(x, m=m, C=C):\n",
        "    '''\n",
        "    Calculate the weighted rating\n",
        "    \n",
        "    Args:\n",
        "    v -> rating counts for each item (pd.Series)\n",
        "    m -> minimum votes required to be classified as popular (float)\n",
        "    R -> average rating for each item (pd.Series)\n",
        "    C -> average rating for the whole dataset (float)\n",
        "    \n",
        "    Returns:\n",
        "    pd.Series\n",
        "    '''\n",
        "    v = x['rating_count']\n",
        "    R = x['rating_average']\n",
        "    return (v/(v+m) * R) + (m/(m+v) * C)\n",
        "\n",
        "ratings_grouped['weighted_rating'] = ratings_grouped.apply(weighted_rating, axis=1)\n",
        "\n",
        "ratings_grouped.sort_values('weighted_rating', ascending = False, inplace = True)\n",
        "\n",
        "ratings_grouped['text'] = ratings_grouped['joke_id'].map(jokes_dict)\n",
        "\n",
        "ratings_grouped.head(10)"
      ]
    },
    {
      "cell_type": "markdown",
      "metadata": {
        "id": "7vO2H_NBdx_a"
      },
      "source": [
        "### Новым user предлагаем шутки с наибольшим weighted_rating"
      ]
    },
    {
      "cell_type": "markdown",
      "metadata": {
        "id": "hSrmnEtrdx_a"
      },
      "source": [
        "### 2. Что делать в случае, если появляется новая шутка, по которой нет оценок или оценок слишком мало?"
      ]
    },
    {
      "cell_type": "markdown",
      "metadata": {
        "id": "D-a8iVSJdx_b"
      },
      "source": [
        "# Content-based модель: новую шутку можно предложить тем пользователям, которые хорошо оценили шутку, близкую к новой по косинусной мере"
      ]
    },
    {
      "cell_type": "code",
      "execution_count": 72,
      "metadata": {
        "id": "oCnIdXLPdx_b"
      },
      "outputs": [],
      "source": [
        "from sklearn.feature_extraction.text import TfidfVectorizer\n",
        "from sklearn.metrics.pairwise import linear_kernel\n",
        "from sklearn.metrics.pairwise import cosine_similarity\n",
        "\n",
        "tfidf = TfidfVectorizer(stop_words='english', min_df = 3, max_df = 10)\n",
        "\n",
        "tfidf_matrix = tfidf.fit_transform(jokes['text'])\n",
        "\n",
        "cosine_sim = cosine_similarity(tfidf_matrix, tfidf_matrix, )"
      ]
    },
    {
      "cell_type": "code",
      "execution_count": 73,
      "metadata": {
        "id": "nHhxBH9fdx_b"
      },
      "outputs": [],
      "source": [
        "def get_recommendations(joke_id, cosine_sim, k):\n",
        "    '''\n",
        "    Return indices of jokes, which are closest to the current\n",
        "    \n",
        "    Args:\n",
        "    joke_id -> indice of joke (int)\n",
        "    cosine_sim -> cosine sim matrix (np.array)\n",
        "    k -> nof tops (int)\n",
        "    \n",
        "    Returns:\n",
        "    list\n",
        "    '''\n",
        "    sim_scores = list(enumerate(cosine_sim[joke_id]))\n",
        "    sim_scores = sorted(sim_scores, key=lambda x: x[1], reverse=True)\n",
        "    sim_scores = sim_scores[1:k+1]\n",
        "    print(sim_scores)\n",
        "    jokes_indices = [i[0] for i in sim_scores]\n",
        "    return jokes_indices"
      ]
    },
    {
      "cell_type": "markdown",
      "metadata": {
        "id": "OL0149eYdx_c"
      },
      "source": [
        "### Предположим, что шутка joke_id == 86 новая:"
      ]
    },
    {
      "cell_type": "code",
      "execution_count": 75,
      "metadata": {
        "colab": {
          "base_uri": "https://localhost:8080/",
          "height": 158
        },
        "id": "9LdkP8vQdx_c",
        "outputId": "6aa9a338-0d3c-48d4-cbe3-08febdcd79f3"
      },
      "outputs": [
        {
          "output_type": "execute_result",
          "data": {
            "text/html": [
              "\n",
              "  <div id=\"df-d09fe915-21db-425b-a063-6260d72dd667\">\n",
              "    <div class=\"colab-df-container\">\n",
              "      <div>\n",
              "<style scoped>\n",
              "    .dataframe tbody tr th:only-of-type {\n",
              "        vertical-align: middle;\n",
              "    }\n",
              "\n",
              "    .dataframe tbody tr th {\n",
              "        vertical-align: top;\n",
              "    }\n",
              "\n",
              "    .dataframe thead th {\n",
              "        text-align: right;\n",
              "    }\n",
              "</style>\n",
              "<table border=\"1\" class=\"dataframe\">\n",
              "  <thead>\n",
              "    <tr style=\"text-align: right;\">\n",
              "      <th></th>\n",
              "      <th>joke_id</th>\n",
              "      <th>text</th>\n",
              "    </tr>\n",
              "  </thead>\n",
              "  <tbody>\n",
              "    <tr>\n",
              "      <th>86</th>\n",
              "      <td>86</td>\n",
              "      <td>A man, recently completing a routine physical examination receives a phone call from his doctor.  The doctor says, \"I have some good news and some bad news.\"  The man says, \"OK, give me the good news first.\"  The doctor says, \"The good news is, you have 24 hours to live.\"  The man replies, \"Shit!  That's the good news?  Then what's the bad news?\"  The doctor says, \"The bad news is, I forgot to...</td>\n",
              "    </tr>\n",
              "  </tbody>\n",
              "</table>\n",
              "</div>\n",
              "      <button class=\"colab-df-convert\" onclick=\"convertToInteractive('df-d09fe915-21db-425b-a063-6260d72dd667')\"\n",
              "              title=\"Convert this dataframe to an interactive table.\"\n",
              "              style=\"display:none;\">\n",
              "        \n",
              "  <svg xmlns=\"http://www.w3.org/2000/svg\" height=\"24px\"viewBox=\"0 0 24 24\"\n",
              "       width=\"24px\">\n",
              "    <path d=\"M0 0h24v24H0V0z\" fill=\"none\"/>\n",
              "    <path d=\"M18.56 5.44l.94 2.06.94-2.06 2.06-.94-2.06-.94-.94-2.06-.94 2.06-2.06.94zm-11 1L8.5 8.5l.94-2.06 2.06-.94-2.06-.94L8.5 2.5l-.94 2.06-2.06.94zm10 10l.94 2.06.94-2.06 2.06-.94-2.06-.94-.94-2.06-.94 2.06-2.06.94z\"/><path d=\"M17.41 7.96l-1.37-1.37c-.4-.4-.92-.59-1.43-.59-.52 0-1.04.2-1.43.59L10.3 9.45l-7.72 7.72c-.78.78-.78 2.05 0 2.83L4 21.41c.39.39.9.59 1.41.59.51 0 1.02-.2 1.41-.59l7.78-7.78 2.81-2.81c.8-.78.8-2.07 0-2.86zM5.41 20L4 18.59l7.72-7.72 1.47 1.35L5.41 20z\"/>\n",
              "  </svg>\n",
              "      </button>\n",
              "      \n",
              "  <style>\n",
              "    .colab-df-container {\n",
              "      display:flex;\n",
              "      flex-wrap:wrap;\n",
              "      gap: 12px;\n",
              "    }\n",
              "\n",
              "    .colab-df-convert {\n",
              "      background-color: #E8F0FE;\n",
              "      border: none;\n",
              "      border-radius: 50%;\n",
              "      cursor: pointer;\n",
              "      display: none;\n",
              "      fill: #1967D2;\n",
              "      height: 32px;\n",
              "      padding: 0 0 0 0;\n",
              "      width: 32px;\n",
              "    }\n",
              "\n",
              "    .colab-df-convert:hover {\n",
              "      background-color: #E2EBFA;\n",
              "      box-shadow: 0px 1px 2px rgba(60, 64, 67, 0.3), 0px 1px 3px 1px rgba(60, 64, 67, 0.15);\n",
              "      fill: #174EA6;\n",
              "    }\n",
              "\n",
              "    [theme=dark] .colab-df-convert {\n",
              "      background-color: #3B4455;\n",
              "      fill: #D2E3FC;\n",
              "    }\n",
              "\n",
              "    [theme=dark] .colab-df-convert:hover {\n",
              "      background-color: #434B5C;\n",
              "      box-shadow: 0px 1px 3px 1px rgba(0, 0, 0, 0.15);\n",
              "      filter: drop-shadow(0px 1px 2px rgba(0, 0, 0, 0.3));\n",
              "      fill: #FFFFFF;\n",
              "    }\n",
              "  </style>\n",
              "\n",
              "      <script>\n",
              "        const buttonEl =\n",
              "          document.querySelector('#df-d09fe915-21db-425b-a063-6260d72dd667 button.colab-df-convert');\n",
              "        buttonEl.style.display =\n",
              "          google.colab.kernel.accessAllowed ? 'block' : 'none';\n",
              "\n",
              "        async function convertToInteractive(key) {\n",
              "          const element = document.querySelector('#df-d09fe915-21db-425b-a063-6260d72dd667');\n",
              "          const dataTable =\n",
              "            await google.colab.kernel.invokeFunction('convertToInteractive',\n",
              "                                                     [key], {});\n",
              "          if (!dataTable) return;\n",
              "\n",
              "          const docLinkHtml = 'Like what you see? Visit the ' +\n",
              "            '<a target=\"_blank\" href=https://colab.research.google.com/notebooks/data_table.ipynb>data table notebook</a>'\n",
              "            + ' to learn more about interactive tables.';\n",
              "          element.innerHTML = '';\n",
              "          dataTable['output_type'] = 'display_data';\n",
              "          await google.colab.output.renderOutput(dataTable, element);\n",
              "          const docLink = document.createElement('div');\n",
              "          docLink.innerHTML = docLinkHtml;\n",
              "          element.appendChild(docLink);\n",
              "        }\n",
              "      </script>\n",
              "    </div>\n",
              "  </div>\n",
              "  "
            ],
            "text/plain": [
              "    joke_id                                                                                                                                                                                                                                                                                                                                                                                                             text\n",
              "86       86  A man, recently completing a routine physical examination receives a phone call from his doctor.  The doctor says, \"I have some good news and some bad news.\"  The man says, \"OK, give me the good news first.\"  The doctor says, \"The good news is, you have 24 hours to live.\"  The man replies, \"Shit!  That's the good news?  Then what's the bad news?\"  The doctor says, \"The bad news is, I forgot to..."
            ]
          },
          "metadata": {},
          "execution_count": 75
        }
      ],
      "source": [
        "joke_id = 86\n",
        "\n",
        "jokes.iloc[[joke_id]]"
      ]
    },
    {
      "cell_type": "code",
      "execution_count": 76,
      "metadata": {
        "colab": {
          "base_uri": "https://localhost:8080/"
        },
        "id": "WnjBpA-Sdx_c",
        "outputId": "2f61ba90-f3cf-467f-9c1e-0b0806f2ea3c"
      },
      "outputs": [
        {
          "output_type": "stream",
          "name": "stdout",
          "text": [
            "top-1:\n",
            "[(0, 0.7322801154226467)]\n",
            "['joke_id=0: A man visits the doctor. The doctor says \"I have bad news for you.You have cancer and Alzheimer\\'s disease\".  The man replies \"Well,thank God I don\\'t have cancer!\"']\n"
          ]
        }
      ],
      "source": [
        "k=1\n",
        "print(f'top-{k}:')\n",
        "\n",
        "print(['joke_id='+str(x)+': '+jokes_dict[x] for x in get_recommendations(joke_id, cosine_sim, k=k)])"
      ]
    },
    {
      "cell_type": "markdown",
      "metadata": {
        "id": "ogPoIWBBdx_d"
      },
      "source": [
        "Шутку мы можем рекомендовать тем user_id, которые давали высокую оценку близкой шутке с joke_id=30"
      ]
    },
    {
      "cell_type": "code",
      "execution_count": 77,
      "metadata": {
        "colab": {
          "base_uri": "https://localhost:8080/",
          "height": 419
        },
        "id": "UGJdWb6Rdx_d",
        "outputId": "3b79f2d3-6c47-4d91-e274-8bc9e2608d6d"
      },
      "outputs": [
        {
          "output_type": "execute_result",
          "data": {
            "text/html": [
              "\n",
              "  <div id=\"df-54f44752-c45a-43b1-8d50-ad6d0d6717c0\">\n",
              "    <div class=\"colab-df-container\">\n",
              "      <div>\n",
              "<style scoped>\n",
              "    .dataframe tbody tr th:only-of-type {\n",
              "        vertical-align: middle;\n",
              "    }\n",
              "\n",
              "    .dataframe tbody tr th {\n",
              "        vertical-align: top;\n",
              "    }\n",
              "\n",
              "    .dataframe thead th {\n",
              "        text-align: right;\n",
              "    }\n",
              "</style>\n",
              "<table border=\"1\" class=\"dataframe\">\n",
              "  <thead>\n",
              "    <tr style=\"text-align: right;\">\n",
              "      <th></th>\n",
              "      <th>user_id</th>\n",
              "      <th>joke_id</th>\n",
              "      <th>rating</th>\n",
              "    </tr>\n",
              "  </thead>\n",
              "  <tbody>\n",
              "    <tr>\n",
              "      <th>2276036</th>\n",
              "      <td>73406</td>\n",
              "      <td>30</td>\n",
              "      <td>9.76</td>\n",
              "    </tr>\n",
              "    <tr>\n",
              "      <th>2269563</th>\n",
              "      <td>66933</td>\n",
              "      <td>30</td>\n",
              "      <td>9.42</td>\n",
              "    </tr>\n",
              "    <tr>\n",
              "      <th>2234525</th>\n",
              "      <td>31895</td>\n",
              "      <td>30</td>\n",
              "      <td>9.37</td>\n",
              "    </tr>\n",
              "    <tr>\n",
              "      <th>2238224</th>\n",
              "      <td>35594</td>\n",
              "      <td>30</td>\n",
              "      <td>9.37</td>\n",
              "    </tr>\n",
              "    <tr>\n",
              "      <th>2238017</th>\n",
              "      <td>35387</td>\n",
              "      <td>30</td>\n",
              "      <td>9.37</td>\n",
              "    </tr>\n",
              "    <tr>\n",
              "      <th>...</th>\n",
              "      <td>...</td>\n",
              "      <td>...</td>\n",
              "      <td>...</td>\n",
              "    </tr>\n",
              "    <tr>\n",
              "      <th>2234499</th>\n",
              "      <td>31869</td>\n",
              "      <td>30</td>\n",
              "      <td>9.03</td>\n",
              "    </tr>\n",
              "    <tr>\n",
              "      <th>2233927</th>\n",
              "      <td>31297</td>\n",
              "      <td>30</td>\n",
              "      <td>9.03</td>\n",
              "    </tr>\n",
              "    <tr>\n",
              "      <th>2233744</th>\n",
              "      <td>31114</td>\n",
              "      <td>30</td>\n",
              "      <td>9.03</td>\n",
              "    </tr>\n",
              "    <tr>\n",
              "      <th>2211443</th>\n",
              "      <td>8813</td>\n",
              "      <td>30</td>\n",
              "      <td>9.03</td>\n",
              "    </tr>\n",
              "    <tr>\n",
              "      <th>2202658</th>\n",
              "      <td>28</td>\n",
              "      <td>30</td>\n",
              "      <td>9.03</td>\n",
              "    </tr>\n",
              "  </tbody>\n",
              "</table>\n",
              "<p>1443 rows × 3 columns</p>\n",
              "</div>\n",
              "      <button class=\"colab-df-convert\" onclick=\"convertToInteractive('df-54f44752-c45a-43b1-8d50-ad6d0d6717c0')\"\n",
              "              title=\"Convert this dataframe to an interactive table.\"\n",
              "              style=\"display:none;\">\n",
              "        \n",
              "  <svg xmlns=\"http://www.w3.org/2000/svg\" height=\"24px\"viewBox=\"0 0 24 24\"\n",
              "       width=\"24px\">\n",
              "    <path d=\"M0 0h24v24H0V0z\" fill=\"none\"/>\n",
              "    <path d=\"M18.56 5.44l.94 2.06.94-2.06 2.06-.94-2.06-.94-.94-2.06-.94 2.06-2.06.94zm-11 1L8.5 8.5l.94-2.06 2.06-.94-2.06-.94L8.5 2.5l-.94 2.06-2.06.94zm10 10l.94 2.06.94-2.06 2.06-.94-2.06-.94-.94-2.06-.94 2.06-2.06.94z\"/><path d=\"M17.41 7.96l-1.37-1.37c-.4-.4-.92-.59-1.43-.59-.52 0-1.04.2-1.43.59L10.3 9.45l-7.72 7.72c-.78.78-.78 2.05 0 2.83L4 21.41c.39.39.9.59 1.41.59.51 0 1.02-.2 1.41-.59l7.78-7.78 2.81-2.81c.8-.78.8-2.07 0-2.86zM5.41 20L4 18.59l7.72-7.72 1.47 1.35L5.41 20z\"/>\n",
              "  </svg>\n",
              "      </button>\n",
              "      \n",
              "  <style>\n",
              "    .colab-df-container {\n",
              "      display:flex;\n",
              "      flex-wrap:wrap;\n",
              "      gap: 12px;\n",
              "    }\n",
              "\n",
              "    .colab-df-convert {\n",
              "      background-color: #E8F0FE;\n",
              "      border: none;\n",
              "      border-radius: 50%;\n",
              "      cursor: pointer;\n",
              "      display: none;\n",
              "      fill: #1967D2;\n",
              "      height: 32px;\n",
              "      padding: 0 0 0 0;\n",
              "      width: 32px;\n",
              "    }\n",
              "\n",
              "    .colab-df-convert:hover {\n",
              "      background-color: #E2EBFA;\n",
              "      box-shadow: 0px 1px 2px rgba(60, 64, 67, 0.3), 0px 1px 3px 1px rgba(60, 64, 67, 0.15);\n",
              "      fill: #174EA6;\n",
              "    }\n",
              "\n",
              "    [theme=dark] .colab-df-convert {\n",
              "      background-color: #3B4455;\n",
              "      fill: #D2E3FC;\n",
              "    }\n",
              "\n",
              "    [theme=dark] .colab-df-convert:hover {\n",
              "      background-color: #434B5C;\n",
              "      box-shadow: 0px 1px 3px 1px rgba(0, 0, 0, 0.15);\n",
              "      filter: drop-shadow(0px 1px 2px rgba(0, 0, 0, 0.3));\n",
              "      fill: #FFFFFF;\n",
              "    }\n",
              "  </style>\n",
              "\n",
              "      <script>\n",
              "        const buttonEl =\n",
              "          document.querySelector('#df-54f44752-c45a-43b1-8d50-ad6d0d6717c0 button.colab-df-convert');\n",
              "        buttonEl.style.display =\n",
              "          google.colab.kernel.accessAllowed ? 'block' : 'none';\n",
              "\n",
              "        async function convertToInteractive(key) {\n",
              "          const element = document.querySelector('#df-54f44752-c45a-43b1-8d50-ad6d0d6717c0');\n",
              "          const dataTable =\n",
              "            await google.colab.kernel.invokeFunction('convertToInteractive',\n",
              "                                                     [key], {});\n",
              "          if (!dataTable) return;\n",
              "\n",
              "          const docLinkHtml = 'Like what you see? Visit the ' +\n",
              "            '<a target=\"_blank\" href=https://colab.research.google.com/notebooks/data_table.ipynb>data table notebook</a>'\n",
              "            + ' to learn more about interactive tables.';\n",
              "          element.innerHTML = '';\n",
              "          dataTable['output_type'] = 'display_data';\n",
              "          await google.colab.output.renderOutput(dataTable, element);\n",
              "          const docLink = document.createElement('div');\n",
              "          docLink.innerHTML = docLinkHtml;\n",
              "          element.appendChild(docLink);\n",
              "        }\n",
              "      </script>\n",
              "    </div>\n",
              "  </div>\n",
              "  "
            ],
            "text/plain": [
              "         user_id  joke_id  rating\n",
              "2276036    73406       30    9.76\n",
              "2269563    66933       30    9.42\n",
              "2234525    31895       30    9.37\n",
              "2238224    35594       30    9.37\n",
              "2238017    35387       30    9.37\n",
              "...          ...      ...     ...\n",
              "2234499    31869       30    9.03\n",
              "2233927    31297       30    9.03\n",
              "2233744    31114       30    9.03\n",
              "2211443     8813       30    9.03\n",
              "2202658       28       30    9.03\n",
              "\n",
              "[1443 rows x 3 columns]"
            ]
          },
          "metadata": {},
          "execution_count": 77
        }
      ],
      "source": [
        "ratings[(ratings.joke_id==30)&(ratings.rating>9)].sort_values('rating')[::-1]"
      ]
    },
    {
      "cell_type": "code",
      "execution_count": null,
      "metadata": {
        "id": "GFGVtkoGdx_d"
      },
      "outputs": [],
      "source": [
        ""
      ]
    }
  ],
  "metadata": {
    "colab": {
      "collapsed_sections": [],
      "name": "RS-jester.ipynb",
      "provenance": [],
      "include_colab_link": true
    },
    "kernelspec": {
      "display_name": "Python 3",
      "language": "python",
      "name": "python3"
    },
    "language_info": {
      "codemirror_mode": {
        "name": "ipython",
        "version": 3
      },
      "file_extension": ".py",
      "mimetype": "text/x-python",
      "name": "python",
      "nbconvert_exporter": "python",
      "pygments_lexer": "ipython3",
      "version": "3.7.4"
    }
  },
  "nbformat": 4,
  "nbformat_minor": 0
}