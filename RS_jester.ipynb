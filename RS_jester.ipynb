{
  "cells": [
    {
      "cell_type": "markdown",
      "metadata": {
        "id": "view-in-github",
        "colab_type": "text"
      },
      "source": [
        "<a href=\"https://colab.research.google.com/github/delhian/recomender_systems/blob/main/RS_jester.ipynb\" target=\"_parent\"><img src=\"https://colab.research.google.com/assets/colab-badge.svg\" alt=\"Open In Colab\"/></a>"
      ]
    },
    {
      "cell_type": "markdown",
      "metadata": {
        "id": "VSfwylweRjQU"
      },
      "source": [
        "### Please see decription here http://eigentaste.berkeley.edu/dataset/"
      ]
    },
    {
      "cell_type": "code",
      "execution_count": null,
      "metadata": {
        "id": "MCOSFxlVRjQV"
      },
      "outputs": [],
      "source": [
        "import pandas as pd\n",
        "pd.set_option('display.float_format', lambda x: '%.2f' % x)\n",
        "from bs4 import BeautifulSoup as bs\n",
        "from os import listdir\n",
        "from os.path import isfile, join\n",
        "pd.set_option('max_colwidth', 400)\n",
        "import numpy as np\n",
        "from collections import defaultdict\n",
        "from surprise.model_selection import GridSearchCV"
      ]
    },
    {
      "cell_type": "markdown",
      "metadata": {
        "id": "xbIwxsPFRjQW"
      },
      "source": [
        "## Jokes"
      ]
    },
    {
      "cell_type": "code",
      "execution_count": null,
      "metadata": {
        "scrolled": true,
        "id": "z5bdYbftRjQW",
        "outputId": "9159b8fc-a1bd-4497-86a4-3f34c76ba7e6"
      },
      "outputs": [
        {
          "name": "stdout",
          "output_type": "stream",
          "text": [
            "(100, 2)\n",
            "CPU times: user 68 ms, sys: 8.81 ms, total: 76.8 ms\n",
            "Wall time: 86.4 ms\n"
          ]
        },
        {
          "data": {
            "text/html": [
              "<div>\n",
              "<style scoped>\n",
              "    .dataframe tbody tr th:only-of-type {\n",
              "        vertical-align: middle;\n",
              "    }\n",
              "\n",
              "    .dataframe tbody tr th {\n",
              "        vertical-align: top;\n",
              "    }\n",
              "\n",
              "    .dataframe thead th {\n",
              "        text-align: right;\n",
              "    }\n",
              "</style>\n",
              "<table border=\"1\" class=\"dataframe\">\n",
              "  <thead>\n",
              "    <tr style=\"text-align: right;\">\n",
              "      <th></th>\n",
              "      <th>joke_id</th>\n",
              "      <th>text</th>\n",
              "    </tr>\n",
              "  </thead>\n",
              "  <tbody>\n",
              "    <tr>\n",
              "      <th>0</th>\n",
              "      <td>0</td>\n",
              "      <td>A man visits the doctor. The doctor says \"I have bad news for you.You have cancer and Alzheimer's disease\".  The man replies \"Well,thank God I don't have cancer!\"</td>\n",
              "    </tr>\n",
              "    <tr>\n",
              "      <th>1</th>\n",
              "      <td>1</td>\n",
              "      <td>This couple had an excellent relationship going until one day he came home from work to find his girlfriend packing. He asked her why she was leaving him and she told him that she had heard awful things about him.   \"What could they possibly have said to make you move out?\"   \"They told me that you were a pedophile.\"   He replied, \"That's an awfully big word for a ten year old.\"</td>\n",
              "    </tr>\n",
              "    <tr>\n",
              "      <th>2</th>\n",
              "      <td>2</td>\n",
              "      <td>Q. What's 200 feet long and has 4 teeth?   A. The front row at a Willie Nelson Concert.</td>\n",
              "    </tr>\n",
              "    <tr>\n",
              "      <th>3</th>\n",
              "      <td>3</td>\n",
              "      <td>Q. What's the difference between a man and a toilet?   A. A toilet doesn't follow you around after you use it.</td>\n",
              "    </tr>\n",
              "    <tr>\n",
              "      <th>4</th>\n",
              "      <td>4</td>\n",
              "      <td>Q.\\tWhat's O. J. Simpson's Internet address?  A.\\tSlash, slash, backslash, slash, slash, escape.</td>\n",
              "    </tr>\n",
              "  </tbody>\n",
              "</table>\n",
              "</div>"
            ],
            "text/plain": [
              "   joke_id  \\\n",
              "0        0   \n",
              "1        1   \n",
              "2        2   \n",
              "3        3   \n",
              "4        4   \n",
              "\n",
              "                                                                                                                                                                                                                                                                                                                                                                                            text  \n",
              "0                                                                                                                                                                                                                             A man visits the doctor. The doctor says \"I have bad news for you.You have cancer and Alzheimer's disease\".  The man replies \"Well,thank God I don't have cancer!\"  \n",
              "1  This couple had an excellent relationship going until one day he came home from work to find his girlfriend packing. He asked her why she was leaving him and she told him that she had heard awful things about him.   \"What could they possibly have said to make you move out?\"   \"They told me that you were a pedophile.\"   He replied, \"That's an awfully big word for a ten year old.\"  \n",
              "2                                                                                                                                                                                                                                                                                                        Q. What's 200 feet long and has 4 teeth?   A. The front row at a Willie Nelson Concert.  \n",
              "3                                                                                                                                                                                                                                                                                 Q. What's the difference between a man and a toilet?   A. A toilet doesn't follow you around after you use it.  \n",
              "4                                                                                                                                                                                                                                                                                               Q.\\tWhat's O. J. Simpson's Internet address?  A.\\tSlash, slash, backslash, slash, slash, escape.  "
            ]
          },
          "execution_count": 2,
          "metadata": {},
          "output_type": "execute_result"
        }
      ],
      "source": [
        "%%time\n",
        "\n",
        "filenames_path= './jokes/'\n",
        "\n",
        "filenames = [f for f in listdir(filenames_path) if '.htm' in f]\n",
        "\n",
        "jokes = []\n",
        "\n",
        "for filename in filenames:\n",
        "    joke_id = int(filename.split('.')[0].replace('init','')) - 1\n",
        "    with open(join(filenames_path, filename), 'r',) as file:\n",
        "        text = bs(file, 'lxml').body.text.replace('\\n',' ').strip()\n",
        "        jokes.append([joke_id, text])\n",
        "        \n",
        "jokes = pd.DataFrame(jokes, columns = ['joke_id', 'text'])\n",
        "jokes = jokes.sort_values('joke_id').reset_index(drop=True)\n",
        "print(jokes.shape)\n",
        "jokes.head()"
      ]
    },
    {
      "cell_type": "code",
      "execution_count": null,
      "metadata": {
        "id": "Fc5rGxFwRjQX"
      },
      "outputs": [],
      "source": [
        "jokes.to_pickle('jokes.pkl')"
      ]
    },
    {
      "cell_type": "markdown",
      "metadata": {
        "id": "xYIR6lDDRjQY"
      },
      "source": [
        "## Ratings"
      ]
    },
    {
      "cell_type": "code",
      "execution_count": null,
      "metadata": {
        "id": "r_pFM6VHRjQY",
        "outputId": "980f02de-7494-4409-8191-681f6c75edd1"
      },
      "outputs": [
        {
          "name": "stdout",
          "output_type": "stream",
          "text": [
            "(73421, 101)\n",
            "CPU times: user 21.2 s, sys: 425 ms, total: 21.6 s\n",
            "Wall time: 21.9 s\n"
          ]
        },
        {
          "data": {
            "text/html": [
              "<div>\n",
              "<style scoped>\n",
              "    .dataframe tbody tr th:only-of-type {\n",
              "        vertical-align: middle;\n",
              "    }\n",
              "\n",
              "    .dataframe tbody tr th {\n",
              "        vertical-align: top;\n",
              "    }\n",
              "\n",
              "    .dataframe thead th {\n",
              "        text-align: right;\n",
              "    }\n",
              "</style>\n",
              "<table border=\"1\" class=\"dataframe\">\n",
              "  <thead>\n",
              "    <tr style=\"text-align: right;\">\n",
              "      <th></th>\n",
              "      <th>0</th>\n",
              "      <th>1</th>\n",
              "      <th>2</th>\n",
              "      <th>3</th>\n",
              "      <th>4</th>\n",
              "      <th>5</th>\n",
              "      <th>6</th>\n",
              "      <th>7</th>\n",
              "      <th>8</th>\n",
              "      <th>9</th>\n",
              "      <th>...</th>\n",
              "      <th>91</th>\n",
              "      <th>92</th>\n",
              "      <th>93</th>\n",
              "      <th>94</th>\n",
              "      <th>95</th>\n",
              "      <th>96</th>\n",
              "      <th>97</th>\n",
              "      <th>98</th>\n",
              "      <th>99</th>\n",
              "      <th>user_id</th>\n",
              "    </tr>\n",
              "  </thead>\n",
              "  <tbody>\n",
              "    <tr>\n",
              "      <th>0</th>\n",
              "      <td>-7.82</td>\n",
              "      <td>8.79</td>\n",
              "      <td>-9.66</td>\n",
              "      <td>-8.16</td>\n",
              "      <td>-7.52</td>\n",
              "      <td>-8.50</td>\n",
              "      <td>-9.85</td>\n",
              "      <td>4.17</td>\n",
              "      <td>-8.98</td>\n",
              "      <td>-4.76</td>\n",
              "      <td>...</td>\n",
              "      <td>99.00</td>\n",
              "      <td>99.00</td>\n",
              "      <td>99.00</td>\n",
              "      <td>99.00</td>\n",
              "      <td>99.00</td>\n",
              "      <td>-5.63</td>\n",
              "      <td>99.00</td>\n",
              "      <td>99.00</td>\n",
              "      <td>99.00</td>\n",
              "      <td>0</td>\n",
              "    </tr>\n",
              "    <tr>\n",
              "      <th>1</th>\n",
              "      <td>4.08</td>\n",
              "      <td>-0.29</td>\n",
              "      <td>6.36</td>\n",
              "      <td>4.37</td>\n",
              "      <td>-2.38</td>\n",
              "      <td>-9.66</td>\n",
              "      <td>-0.73</td>\n",
              "      <td>-5.34</td>\n",
              "      <td>8.88</td>\n",
              "      <td>9.22</td>\n",
              "      <td>...</td>\n",
              "      <td>-4.95</td>\n",
              "      <td>-0.29</td>\n",
              "      <td>7.86</td>\n",
              "      <td>-0.19</td>\n",
              "      <td>-2.14</td>\n",
              "      <td>3.06</td>\n",
              "      <td>0.34</td>\n",
              "      <td>-4.32</td>\n",
              "      <td>1.07</td>\n",
              "      <td>1</td>\n",
              "    </tr>\n",
              "    <tr>\n",
              "      <th>2</th>\n",
              "      <td>99.00</td>\n",
              "      <td>99.00</td>\n",
              "      <td>99.00</td>\n",
              "      <td>99.00</td>\n",
              "      <td>9.03</td>\n",
              "      <td>9.27</td>\n",
              "      <td>9.03</td>\n",
              "      <td>9.27</td>\n",
              "      <td>99.00</td>\n",
              "      <td>99.00</td>\n",
              "      <td>...</td>\n",
              "      <td>99.00</td>\n",
              "      <td>99.00</td>\n",
              "      <td>9.08</td>\n",
              "      <td>99.00</td>\n",
              "      <td>99.00</td>\n",
              "      <td>99.00</td>\n",
              "      <td>99.00</td>\n",
              "      <td>99.00</td>\n",
              "      <td>99.00</td>\n",
              "      <td>2</td>\n",
              "    </tr>\n",
              "    <tr>\n",
              "      <th>3</th>\n",
              "      <td>99.00</td>\n",
              "      <td>8.35</td>\n",
              "      <td>99.00</td>\n",
              "      <td>99.00</td>\n",
              "      <td>1.80</td>\n",
              "      <td>8.16</td>\n",
              "      <td>-2.82</td>\n",
              "      <td>6.21</td>\n",
              "      <td>99.00</td>\n",
              "      <td>1.84</td>\n",
              "      <td>...</td>\n",
              "      <td>99.00</td>\n",
              "      <td>99.00</td>\n",
              "      <td>0.53</td>\n",
              "      <td>99.00</td>\n",
              "      <td>99.00</td>\n",
              "      <td>99.00</td>\n",
              "      <td>99.00</td>\n",
              "      <td>99.00</td>\n",
              "      <td>99.00</td>\n",
              "      <td>3</td>\n",
              "    </tr>\n",
              "    <tr>\n",
              "      <th>4</th>\n",
              "      <td>8.50</td>\n",
              "      <td>4.61</td>\n",
              "      <td>-4.17</td>\n",
              "      <td>-5.39</td>\n",
              "      <td>1.36</td>\n",
              "      <td>1.60</td>\n",
              "      <td>7.04</td>\n",
              "      <td>4.61</td>\n",
              "      <td>-0.44</td>\n",
              "      <td>5.73</td>\n",
              "      <td>...</td>\n",
              "      <td>5.58</td>\n",
              "      <td>4.27</td>\n",
              "      <td>5.19</td>\n",
              "      <td>5.73</td>\n",
              "      <td>1.55</td>\n",
              "      <td>3.11</td>\n",
              "      <td>6.55</td>\n",
              "      <td>1.80</td>\n",
              "      <td>1.60</td>\n",
              "      <td>4</td>\n",
              "    </tr>\n",
              "  </tbody>\n",
              "</table>\n",
              "<p>5 rows × 101 columns</p>\n",
              "</div>"
            ],
            "text/plain": [
              "      0     1     2     3     4     5     6     7     8     9  ...    91  \\\n",
              "0 -7.82  8.79 -9.66 -8.16 -7.52 -8.50 -9.85  4.17 -8.98 -4.76  ... 99.00   \n",
              "1  4.08 -0.29  6.36  4.37 -2.38 -9.66 -0.73 -5.34  8.88  9.22  ... -4.95   \n",
              "2 99.00 99.00 99.00 99.00  9.03  9.27  9.03  9.27 99.00 99.00  ... 99.00   \n",
              "3 99.00  8.35 99.00 99.00  1.80  8.16 -2.82  6.21 99.00  1.84  ... 99.00   \n",
              "4  8.50  4.61 -4.17 -5.39  1.36  1.60  7.04  4.61 -0.44  5.73  ...  5.58   \n",
              "\n",
              "     92    93    94    95    96    97    98    99  user_id  \n",
              "0 99.00 99.00 99.00 99.00 -5.63 99.00 99.00 99.00        0  \n",
              "1 -0.29  7.86 -0.19 -2.14  3.06  0.34 -4.32  1.07        1  \n",
              "2 99.00  9.08 99.00 99.00 99.00 99.00 99.00 99.00        2  \n",
              "3 99.00  0.53 99.00 99.00 99.00 99.00 99.00 99.00        3  \n",
              "4  4.27  5.19  5.73  1.55  3.11  6.55  1.80  1.60        4  \n",
              "\n",
              "[5 rows x 101 columns]"
            ]
          },
          "execution_count": 4,
          "metadata": {},
          "output_type": "execute_result"
        }
      ],
      "source": [
        "%%time\n",
        "\n",
        "filenames_path= './jokes/'\n",
        "\n",
        "filenames = [f for f in listdir(filenames_path) if '.xls' in f]\n",
        "\n",
        "ratings = []\n",
        "for filename in filenames:\n",
        "    tmp = pd.read_excel(join(filenames_path, filename), \\\n",
        "                        usecols = range(1, 101), header=None)\n",
        "    ratings.append(tmp)\n",
        "\n",
        "ratings = pd.concat(ratings)\n",
        "ratings = ratings.reset_index(drop=True)\n",
        "\n",
        "ratings.columns = range(100)\n",
        "\n",
        "ratings['user_id'] = ratings.index\n",
        "\n",
        "print(ratings.shape)\n",
        "ratings.head()"
      ]
    },
    {
      "cell_type": "code",
      "execution_count": null,
      "metadata": {
        "id": "Vmo-GPyHRjQZ"
      },
      "outputs": [],
      "source": [
        "# melt:\n",
        "ratings = pd.melt(ratings,\n",
        "                      id_vars=['user_id'],\n",
        "                      value_vars=range(100),\n",
        "                      var_name = 'joke_id',\n",
        "                      value_name = 'rating')"
      ]
    },
    {
      "cell_type": "code",
      "execution_count": null,
      "metadata": {
        "id": "WBVMWlM5RjQZ",
        "outputId": "20ce9555-2cc1-4da3-98df-c357255c6fb3"
      },
      "outputs": [
        {
          "name": "stdout",
          "output_type": "stream",
          "text": [
            "(4136360, 3)\n"
          ]
        },
        {
          "data": {
            "text/html": [
              "<div>\n",
              "<style scoped>\n",
              "    .dataframe tbody tr th:only-of-type {\n",
              "        vertical-align: middle;\n",
              "    }\n",
              "\n",
              "    .dataframe tbody tr th {\n",
              "        vertical-align: top;\n",
              "    }\n",
              "\n",
              "    .dataframe thead th {\n",
              "        text-align: right;\n",
              "    }\n",
              "</style>\n",
              "<table border=\"1\" class=\"dataframe\">\n",
              "  <thead>\n",
              "    <tr style=\"text-align: right;\">\n",
              "      <th></th>\n",
              "      <th>user_id</th>\n",
              "      <th>joke_id</th>\n",
              "      <th>rating</th>\n",
              "    </tr>\n",
              "  </thead>\n",
              "  <tbody>\n",
              "    <tr>\n",
              "      <th>0</th>\n",
              "      <td>0</td>\n",
              "      <td>0</td>\n",
              "      <td>-7.82</td>\n",
              "    </tr>\n",
              "    <tr>\n",
              "      <th>1</th>\n",
              "      <td>1</td>\n",
              "      <td>0</td>\n",
              "      <td>4.08</td>\n",
              "    </tr>\n",
              "    <tr>\n",
              "      <th>4</th>\n",
              "      <td>4</td>\n",
              "      <td>0</td>\n",
              "      <td>8.50</td>\n",
              "    </tr>\n",
              "    <tr>\n",
              "      <th>5</th>\n",
              "      <td>5</td>\n",
              "      <td>0</td>\n",
              "      <td>-6.17</td>\n",
              "    </tr>\n",
              "    <tr>\n",
              "      <th>7</th>\n",
              "      <td>7</td>\n",
              "      <td>0</td>\n",
              "      <td>6.84</td>\n",
              "    </tr>\n",
              "  </tbody>\n",
              "</table>\n",
              "</div>"
            ],
            "text/plain": [
              "   user_id  joke_id  rating\n",
              "0        0        0   -7.82\n",
              "1        1        0    4.08\n",
              "4        4        0    8.50\n",
              "5        5        0   -6.17\n",
              "7        7        0    6.84"
            ]
          },
          "execution_count": 6,
          "metadata": {},
          "output_type": "execute_result"
        }
      ],
      "source": [
        "# remove unrated: \n",
        "ratings = ratings[ratings.rating != 99.00]\n",
        "\n",
        "print(ratings.shape)\n",
        "\n",
        "ratings['joke_id'] = ratings['joke_id'].astype('int64')\n",
        "\n",
        "ratings.to_pickle('ratings.pkl')\n",
        "\n",
        "ratings.head()"
      ]
    },
    {
      "cell_type": "markdown",
      "metadata": {
        "id": "2UTXAgm3RjQa"
      },
      "source": [
        "###  MODELS"
      ]
    },
    {
      "cell_type": "code",
      "execution_count": null,
      "metadata": {
        "id": "HgXZxezjRjQa"
      },
      "outputs": [],
      "source": [
        "import collections, random\n",
        "from surprise import Reader, Dataset\n",
        "from surprise.model_selection import KFold\n",
        "from sklearn.model_selection import KFold as SKFold\n",
        "import pandas as pd\n",
        "from surprise import SVD, NMF, SlopeOne\n",
        "import numpy as np\n",
        "pd.set_option('display.float_format', lambda x: '%.2f' % x)\n",
        "from surprise import accuracy"
      ]
    },
    {
      "cell_type": "code",
      "execution_count": null,
      "metadata": {
        "id": "AfSx1WTERjQb"
      },
      "outputs": [],
      "source": [
        "ratings = pd.read_pickle('ratings.pkl')\n",
        "jokes = pd.read_pickle('jokes.pkl')\n",
        "jokes_dict = {x[0]: x[1] for x in jokes.values}"
      ]
    },
    {
      "cell_type": "code",
      "execution_count": null,
      "metadata": {
        "id": "r2tDkb9TRjQb"
      },
      "outputs": [],
      "source": [
        "reader = Reader(rating_scale = (-10, 10))\n",
        "data = Dataset.load_from_df(ratings[['user_id', 'joke_id', 'rating']], reader)"
      ]
    },
    {
      "cell_type": "markdown",
      "metadata": {
        "id": "SXhxYRzJRjQb"
      },
      "source": [
        "###  Коллаборативная фильтрация: SVD, NMF, SlopeOne\n",
        "\n",
        "### Используем cross-валидацию для оценки максимальной RMSE, которой можем достичь той или иной моделью:"
      ]
    },
    {
      "cell_type": "code",
      "execution_count": null,
      "metadata": {
        "id": "eHGlt0DLRjQc",
        "outputId": "a37017e3-88a1-47c2-b9eb-f2a3f64fdb55"
      },
      "outputs": [
        {
          "name": "stdout",
          "output_type": "stream",
          "text": [
            "model: <class 'surprise.prediction_algorithms.matrix_factorization.SVD'>\n",
            "split:0 RMSE: 4.2309\n",
            "split:1 RMSE: 4.2375\n",
            "split:2 RMSE: 4.2051\n",
            "split:3 RMSE: 4.1869\n",
            "split:4 RMSE: 4.2278\n",
            "mean RMSE at the all splits: 4.2176\n",
            "\n",
            "model: <class 'surprise.prediction_algorithms.matrix_factorization.NMF'>\n",
            "split:0 RMSE: 5.5917\n",
            "split:1 RMSE: 6.0229\n",
            "split:2 RMSE: 5.4787\n",
            "split:3 RMSE: 6.1352\n",
            "split:4 RMSE: 5.3744\n",
            "mean RMSE at the all splits: 5.7206\n",
            "\n",
            "model: <class 'surprise.prediction_algorithms.slope_one.SlopeOne'>\n",
            "split:0 RMSE: 4.3952\n",
            "split:1 RMSE: 4.3928\n",
            "split:2 RMSE: 4.3803\n",
            "split:3 RMSE: 4.3948\n",
            "split:4 RMSE: 4.3813\n",
            "mean RMSE at the all splits: 4.3889\n",
            "\n",
            "CPU times: user 6min 25s, sys: 846 ms, total: 6min 26s\n",
            "Wall time: 6min 26s\n"
          ]
        }
      ],
      "source": [
        "%%time\n",
        "\n",
        "kf = KFold(n_splits=5)\n",
        "    \n",
        "for model in [SVD(), NMF(), SlopeOne(), ]:\n",
        "    print(f'model: {model.__class__}')\n",
        "    rmse = []\n",
        "    for ind, [trainset, testset] in enumerate(kf.split(data)):\n",
        "        print(f'split:{ind}', end = ' ' )\n",
        "        model.fit(trainset)\n",
        "        predictions = model.test(testset)\n",
        "    # Root Mean Squared Error :\n",
        "        rmse.append(accuracy.rmse(predictions))\n",
        "    print(f'mean RMSE at the all splits: {np.round(np.mean(rmse), 4)}\\n')"
      ]
    },
    {
      "cell_type": "markdown",
      "metadata": {
        "id": "H_iox3DeRjQd"
      },
      "source": [
        "### Т.о. лучшим себя показывает SVD\n",
        "### Подберем гиперапараметры SVD и посмотрим, какое минимальное RMSE удастся достичь"
      ]
    },
    {
      "cell_type": "code",
      "execution_count": null,
      "metadata": {
        "id": "fBE7YcLGRjQd"
      },
      "outputs": [],
      "source": [
        "# Будем подбирать гиперпараметры на 20% подвыборки по user_id :\n",
        "\n",
        "n_user_ids = len(ratings.user_id.unique())\n",
        "n_user_ids_subset = random.choices(ratings.user_id.unique(), k=n_user_ids//5)\n",
        "\n",
        "reader = Reader(rating_scale = (-10, 10))\n",
        "data = Dataset.load_from_df(ratings[['user_id', 'joke_id', 'rating']]\\\n",
        "                            [ratings.user_id.isin(n_user_ids_subset)], reader)"
      ]
    },
    {
      "cell_type": "code",
      "execution_count": null,
      "metadata": {
        "id": "1nA4gX9tRjQd",
        "outputId": "bafc7710-cdb8-4220-9757-ca9ffe53d50c"
      },
      "outputs": [
        {
          "name": "stdout",
          "output_type": "stream",
          "text": [
            "Grid Search...\n"
          ]
        },
        {
          "name": "stderr",
          "output_type": "stream",
          "text": [
            "[Parallel(n_jobs=1)]: Using backend SequentialBackend with 1 concurrent workers.\n"
          ]
        },
        {
          "name": "stdout",
          "output_type": "stream",
          "text": [
            "CPU times: user 50min 7s, sys: 9.54 s, total: 50min 17s\n",
            "Wall time: 50min 24s\n"
          ]
        },
        {
          "name": "stderr",
          "output_type": "stream",
          "text": [
            "[Parallel(n_jobs=1)]: Done  81 out of  81 | elapsed: 50.4min finished\n"
          ]
        }
      ],
      "source": [
        "%%time\n",
        "# Select your best algo with grid search.\n",
        "print('Grid Search...')\n",
        "\n",
        "param_grid = {'n_epochs': [20, 25, 30], 'n_factors':  [110, 120, 130], 'lr_all': [0.003, 0.005, 0.01]}\n",
        "grid_search = GridSearchCV(SVD, param_grid, measures=['rmse'], cv=3, joblib_verbose = 1)\n",
        "grid_search.fit(data)"
      ]
    },
    {
      "cell_type": "code",
      "execution_count": null,
      "metadata": {
        "id": "lFMW6pfIRjQe",
        "outputId": "81b028af-89f9-4892-a82b-0e738d94b629"
      },
      "outputs": [
        {
          "data": {
            "text/plain": [
              "({'rmse': 4.171826591491786},\n",
              " {'rmse': {'n_epochs': 30, 'n_factors': 130, 'lr_all': 0.01}})"
            ]
          },
          "execution_count": 233,
          "metadata": {},
          "output_type": "execute_result"
        }
      ],
      "source": [
        "grid_search.best_score, grid_search.best_params"
      ]
    },
    {
      "cell_type": "markdown",
      "metadata": {
        "id": "faOLynPORjQe"
      },
      "source": [
        "###   В качестве модели выбираем SVD с найденными best_params, обучаемся на всех доступных данных:"
      ]
    },
    {
      "cell_type": "code",
      "execution_count": null,
      "metadata": {
        "id": "_T8D85VERjQf",
        "outputId": "18774626-f038-43c0-bb2a-18e63e7df7f0"
      },
      "outputs": [
        {
          "name": "stdout",
          "output_type": "stream",
          "text": [
            "CPU times: user 1min 5s, sys: 176 ms, total: 1min 5s\n",
            "Wall time: 1min 6s\n"
          ]
        },
        {
          "data": {
            "text/plain": [
              "<surprise.prediction_algorithms.matrix_factorization.SVD at 0x7fb673d723d0>"
            ]
          },
          "execution_count": 237,
          "metadata": {},
          "output_type": "execute_result"
        }
      ],
      "source": [
        "%%time\n",
        "\n",
        "trainingSet = data.build_full_trainset()\n",
        "model = grid_search.best_estimator['rmse']\n",
        "model.fit(trainingSet)"
      ]
    },
    {
      "cell_type": "markdown",
      "metadata": {
        "id": "cO_GEOvFRjQf"
      },
      "source": [
        "###  Предсказываем rating (est) для всех пар user, joke (uid, iid), которые не присутствуют в тренировочном датасете:"
      ]
    },
    {
      "cell_type": "code",
      "execution_count": null,
      "metadata": {
        "scrolled": true,
        "id": "tlViXNTqRjQf",
        "outputId": "b52af511-d1cc-4837-aa6a-f5b6ec8a3c88"
      },
      "outputs": [
        {
          "name": "stdout",
          "output_type": "stream",
          "text": [
            "CPU times: user 4.7 s, sys: 156 ms, total: 4.86 s\n",
            "Wall time: 4.88 s\n"
          ]
        }
      ],
      "source": [
        "%%time\n",
        "\n",
        "testingSet = trainingSet.build_anti_testset()\n",
        "predicted = pd.DataFrame(model.test(testingSet))[['uid', 'iid', 'est']]"
      ]
    },
    {
      "cell_type": "markdown",
      "metadata": {
        "id": "Xz0sHZ3kRjQg"
      },
      "source": [
        "###  Выведем примеры 2 шуток, которые понравились пользователю cо случайным u_id"
      ]
    },
    {
      "cell_type": "code",
      "execution_count": null,
      "metadata": {
        "id": "gKGmKCcwRjQg",
        "outputId": "900c8135-6929-454e-acb4-8b12e4eb8a92"
      },
      "outputs": [
        {
          "data": {
            "text/plain": [
              "1909"
            ]
          },
          "execution_count": 261,
          "metadata": {},
          "output_type": "execute_result"
        }
      ],
      "source": [
        "u_id = random.choice(predicted[predicted.est > 8].uid.unique())\n",
        "u_id"
      ]
    },
    {
      "cell_type": "code",
      "execution_count": null,
      "metadata": {
        "id": "VITdlGsdRjQg",
        "outputId": "841ad661-9336-4385-cba7-9d89f3f6bd08"
      },
      "outputs": [
        {
          "data": {
            "text/plain": [
              "Index(['iid', 'est'], dtype='object')"
            ]
          },
          "execution_count": 286,
          "metadata": {},
          "output_type": "execute_result"
        }
      ],
      "source": [
        "iid_ratings.columns"
      ]
    },
    {
      "cell_type": "code",
      "execution_count": null,
      "metadata": {
        "id": "mq9Ht0nlRjQh",
        "outputId": "8fee9db5-3568-4808-bef5-35426fa4cda5"
      },
      "outputs": [
        {
          "data": {
            "text/plain": [
              "<surprise.trainset.Trainset at 0x7fb6b9a5e610>"
            ]
          },
          "execution_count": 285,
          "metadata": {},
          "output_type": "execute_result"
        }
      ],
      "source": [
        "trainingSet"
      ]
    },
    {
      "cell_type": "code",
      "execution_count": null,
      "metadata": {
        "id": "QJjrzX6hRjQh",
        "outputId": "64c730c1-3fb1-4b90-b93f-e5094d94513e"
      },
      "outputs": [
        {
          "name": "stdout",
          "output_type": "stream",
          "text": [
            "top-3:\n",
            "\n",
            "est: 9.22:\n",
            "Q: What is the difference between George  Washington, Richard Nixon, and Bill Clinton?  A: Washington couldn't tell a lie, Nixon couldn't   tell the truth, and Clinton doesn't know the difference.\n",
            "est: 9.22:\n",
            "Reaching the end of a job interview, the human resources person asked a young engineer fresh out of Stanford,  \"And what starting salary were you looking for?\"  The engineer said, \"In the neighborhood of $125,000 a year, depending on the benefits package.\"  The interviewer said, \"Well, what would you say to a package of 5-weeks  vacation, 14 paid holidays, full medical and dental, company matching  retirement fund to 50% of salary, and a company car leased every 2 years -  say, a red Corvette?\"  The Engineer sat up straight and said, \"Wow! Are you kidding?\"  And the interviewer replied, \"Yeah, but you started it.\"\n",
            "est: 9.17:\n",
            "A Panda bear walks into a bar.  Sits down at a table and orders a beer  and a double cheeseburger.  After he is finished eating, he pulls out a gun and rips the place with gunfire.  Patrons scatter and dive under chairs and tables as the bear runs out the door.  After ensuring that no one is hurt,  the bartender races out the door, and calls after the bear \"What the hell did you do that for?\"  The bear calls back, \"I'm a Panda bear.  Look it up in the dictionary.\"    The bartender returns, pulls out his dictionary.  panda : \\Pan\"da\\, n. (Zo[\"o]l.) A small Asiatic mammal (Ailurus fulgens) having fine soft fur. It is related to the bears, and inhabits the mountains of Northern India. Eats shoots and leaves.\n"
          ]
        }
      ],
      "source": [
        "def print_jokes (iid_ratings, trainingSet, top_n):\n",
        "    '''\n",
        "    sort iid_ratings descendingly and print top_n - jokes\n",
        "    \n",
        "    Args:\n",
        "    iid_ratings -> rating (est) for each items(iid) (pd.DataFrame, columns: 'iid', 'est')\n",
        "    trainingSet -> trainingset built via: data.build_full_trainset() (surprise.trainset.Trainset)\n",
        "    top_n -> nof tops (int)\n",
        "\n",
        "    '''\n",
        "    print(f'top-{top_n}:\\n')\n",
        "    iid_ratings = iid_ratings.sort_values('est', ascending = False)[:top_n]\n",
        "    for _, row in iid_ratings.iterrows():\n",
        "        print(f'est: {round(row.est, 2)}:')\n",
        "        joke_id = trainingSet.to_raw_iid(row.iid)\n",
        "        jokes_text = jokes_dict[joke_id]\n",
        "        print(f'{jokes_text}', end = '\\n')\n",
        "\n",
        "iid_ratings = pd.DataFrame(trainingSet.ur[u_id], columns = ['iid', 'est'])\n",
        "print_jokes(iid_ratings, trainingSet, 3)"
      ]
    },
    {
      "cell_type": "code",
      "execution_count": null,
      "metadata": {
        "id": "UAqb79M-RjQh",
        "outputId": "e2296f3a-6b82-4be4-eed6-9748f92f80fb"
      },
      "outputs": [
        {
          "name": "stdout",
          "output_type": "stream",
          "text": [
            "top-3:\n",
            "\n",
            "est: 8.35:\n",
            "A radio conversation of a US naval  ship with Canadian authorities ...   Americans: Please divert your course 15 degrees to the North to avoid a collision.  Canadians: Recommend you divert YOUR course 15 degrees to the South to  avoid a collision.  Americans: This is the Captain of a US Navy ship.  I say again, divert  YOUR course.  Canadians: No.  I say again, you divert YOUR course.  Americans: This is the aircraft carrier USS LINCOLN, the second largest ship in the United States' Atlantic Fleet. We are accompanied by three destroyers, three cruisers and numerous support vessels. I demand that you change your course 15 degrees north, that's ONE FIVE DEGREES NORTH, or counter-measures will be undertaken to ensure the safety of this ship.  Canadians: This is a lighthouse.  Your call.\n",
            "est: 7.55:\n",
            "Two atoms are walking down the street when one  atom says to the other  \"Oh, my! I've lost an electron!\"  The second atom says\"Are you sure\"  The first replies \"I'm positive!\"\n",
            "est: 7.54:\n",
            "A Panda bear walks into a bar.  Sits down at a table and orders a beer  and a double cheeseburger.  After he is finished eating, he pulls out a gun and rips the place with gunfire.  Patrons scatter and dive under chairs and tables as the bear runs out the door.  After ensuring that no one is hurt,  the bartender races out the door, and calls after the bear \"What the hell did you do that for?\"  The bear calls back, \"I'm a Panda bear.  Look it up in the dictionary.\"    The bartender returns, pulls out his dictionary.  panda : \\Pan\"da\\, n. (Zo[\"o]l.) A small Asiatic mammal (Ailurus fulgens) having fine soft fur. It is related to the bears, and inhabits the mountains of Northern India. Eats shoots and leaves.\n"
          ]
        }
      ],
      "source": [
        "# Получаем предсказания для данного u_id:\n",
        "iid_ratings_predicted = predicted[predicted.uid == u_id][['iid', 'est']]\n",
        "print_jokes(iid_ratings_predicted, trainingSet, 3)"
      ]
    },
    {
      "cell_type": "markdown",
      "metadata": {
        "id": "KYsEf2inRjQi"
      },
      "source": [
        "### Для того, чтобы оценить качество ранжирования рекомендаций шуток посчитаем precision_recall_at_k"
      ]
    },
    {
      "cell_type": "markdown",
      "metadata": {
        "id": "0ZxYF9d0RjQi"
      },
      "source": [
        "![image.png](attachment:image.png)"
      ]
    },
    {
      "cell_type": "code",
      "execution_count": null,
      "metadata": {
        "scrolled": true,
        "id": "TNWdXNEoRjQi",
        "outputId": "9d7a0ee8-7901-47f0-96b3-23c862d145df"
      },
      "outputs": [
        {
          "name": "stdout",
          "output_type": "stream",
          "text": [
            "split 0: mean_precision_on_10: 0.6637096012067707 mean_recall_on_10: 0.6159446093374188\n",
            "split 1: mean_precision_on_10: 0.6641612517376246 mean_recall_on_10: 0.6164231247483798\n",
            "split 2: mean_precision_on_10: 0.66477759216348 mean_recall_on_10: 0.6154119760690986\n",
            "split 3: mean_precision_on_10: 0.6602821384306885 mean_recall_on_10: 0.6172304181345497\n",
            "split 4: mean_precision_on_10: 0.6635699011680131 mean_recall_on_10: 0.6184312478248898\n",
            "mean_recall_on_10_avarage: 0.6633000969413153, mean_recall_on_10_avarage: 0.6166882752228673\n",
            "CPU times: user 6min 55s, sys: 1.05 s, total: 6min 56s\n",
            "Wall time: 6min 56s\n"
          ]
        }
      ],
      "source": [
        "%%time\n",
        "\n",
        "k = 10\n",
        "threshold = 5\n",
        "\n",
        "def precision_recall_at_k(predictions, k = k, threshold = threshold):\n",
        "    '''\n",
        "    Return precision and recall at k metrics for each user\n",
        "    \n",
        "    Args:\n",
        "    predictions -> rating (est) for each items(iid) (pd.DataFrame, columns: 'iid', 'est')\n",
        "    k -> nof tops (int)\n",
        "    threshold -> rating threshold (float)\n",
        "    \n",
        "    Returns:\n",
        "    dict, dict\n",
        "    '''\n",
        "    precisions = dict()\n",
        "    recalls = dict()\n",
        "    for uid in predictions['uid'].unique():\n",
        "        uid_df = predictions[predictions.uid == uid]\n",
        "        uid_df_top_k = uid_df.sort_values('est', ascending=False).iloc[:k]\n",
        "        # Number of relevant items:\n",
        "        n_rel = len(uid_df[uid_df.r_ui > threshold])\n",
        "        # Number of recommended items in top k:\n",
        "        n_rec_k = len(uid_df_top_k[uid_df_top_k.est > threshold])\n",
        "        # Number of relevant and recommended items in top k:\n",
        "        n_rel_and_rec_k = len(uid_df_top_k[(uid_df_top_k.est > threshold)&(uid_df_top_k.r_ui > threshold)])\n",
        "        # Precision@K: Proportion of recommended items that are relevant\n",
        "        # When n_rec_k is 0, Precision is undefined. We here set it to 0.\n",
        "        precisions[uid] = n_rel_and_rec_k / n_rec_k if n_rec_k != 0 else 0\n",
        "        # Recall@K: Proportion of relevant items that are recommended\n",
        "        # When n_rel is 0, Recall is undefined. We here set it to 0.\n",
        "        recalls[uid] = n_rel_and_rec_k / n_rel if n_rel != 0 else 0\n",
        "    return precisions, recalls\n",
        "\n",
        "kf = KFold(n_splits = 5)\n",
        "\n",
        "mp_on_ks = []\n",
        "mr_on_ks = []\n",
        "\n",
        "for ind, [trainset, testset] in enumerate(kf.split(data)):\n",
        "    print(f'split {ind}:', end = ' ')\n",
        "    model.fit(trainset)\n",
        "    predictions = model.test(testset)\n",
        "    predictions = pd.DataFrame(predictions)\n",
        "    precisions, recalls = precision_recall_at_k(predictions, k=k, threshold=0)\n",
        "    # Precision and recall averaged over all users:\n",
        "    mp_on_k = sum(prec for prec in precisions.values()) / len(precisions)\n",
        "    mr_on_k = sum(rec for rec in recalls.values()) / len(recalls) \n",
        "    print(f'mean_precision_on_{k}: {mp_on_k}', end =' ')\n",
        "    print(f'mean_recall_on_{k}: {mr_on_k}')\n",
        "    mp_on_ks.append(mp_on_k)\n",
        "    mr_on_ks.append(mr_on_k)\n",
        "\n",
        "print(f'mean_recall_on_{k}_avarage: {np.mean(mp_on_ks)}, mean_recall_on_{k}_avarage: {np.mean(mr_on_ks)}')"
      ]
    },
    {
      "cell_type": "markdown",
      "metadata": {
        "id": "8PwDfLYERjQj"
      },
      "source": [
        "# Проблемы \"Холодного старта\":\n",
        "\n",
        "\n",
        "### 1. Что делать в случае, если появляется новый user, который ничего не оценивал или оценил еще слишком мало?"
      ]
    },
    {
      "cell_type": "markdown",
      "metadata": {
        "id": "tLgvesWgRjQj"
      },
      "source": [
        "# Popular-based model"
      ]
    },
    {
      "cell_type": "markdown",
      "metadata": {
        "id": "06JmVsxsRjQj"
      },
      "source": [
        "### Получаем для каждой joke_id общее количество оценок и средний рейтинг: "
      ]
    },
    {
      "cell_type": "code",
      "execution_count": null,
      "metadata": {
        "id": "VcJ25GOKRjQk",
        "outputId": "1aa3de48-42fb-46ff-b3f8-789c4a0213f6"
      },
      "outputs": [
        {
          "data": {
            "text/html": [
              "<div>\n",
              "<style scoped>\n",
              "    .dataframe tbody tr th:only-of-type {\n",
              "        vertical-align: middle;\n",
              "    }\n",
              "\n",
              "    .dataframe tbody tr th {\n",
              "        vertical-align: top;\n",
              "    }\n",
              "\n",
              "    .dataframe thead th {\n",
              "        text-align: right;\n",
              "    }\n",
              "</style>\n",
              "<table border=\"1\" class=\"dataframe\">\n",
              "  <thead>\n",
              "    <tr style=\"text-align: right;\">\n",
              "      <th></th>\n",
              "      <th>joke_id</th>\n",
              "      <th>rating_count</th>\n",
              "      <th>rating_average</th>\n",
              "    </tr>\n",
              "  </thead>\n",
              "  <tbody>\n",
              "    <tr>\n",
              "      <th>0</th>\n",
              "      <td>0</td>\n",
              "      <td>32024</td>\n",
              "      <td>0.90</td>\n",
              "    </tr>\n",
              "    <tr>\n",
              "      <th>1</th>\n",
              "      <td>1</td>\n",
              "      <td>35277</td>\n",
              "      <td>0.16</td>\n",
              "    </tr>\n",
              "    <tr>\n",
              "      <th>2</th>\n",
              "      <td>2</td>\n",
              "      <td>32402</td>\n",
              "      <td>0.19</td>\n",
              "    </tr>\n",
              "    <tr>\n",
              "      <th>3</th>\n",
              "      <td>3</td>\n",
              "      <td>30512</td>\n",
              "      <td>-1.41</td>\n",
              "    </tr>\n",
              "    <tr>\n",
              "      <th>4</th>\n",
              "      <td>4</td>\n",
              "      <td>73405</td>\n",
              "      <td>0.24</td>\n",
              "    </tr>\n",
              "  </tbody>\n",
              "</table>\n",
              "</div>"
            ],
            "text/plain": [
              "   joke_id  rating_count  rating_average\n",
              "0        0         32024            0.90\n",
              "1        1         35277            0.16\n",
              "2        2         32402            0.19\n",
              "3        3         30512           -1.41\n",
              "4        4         73405            0.24"
            ]
          },
          "execution_count": 276,
          "metadata": {},
          "output_type": "execute_result"
        }
      ],
      "source": [
        "ratings_grouped = ratings.groupby('joke_id')['rating'].agg({'mean', 'size'})\\\n",
        ".rename(columns = {'mean': 'rating_average','size': 'rating_count' }).reset_index()\n",
        "\n",
        "ratings_grouped.head()"
      ]
    },
    {
      "cell_type": "code",
      "execution_count": null,
      "metadata": {
        "id": "hIRom6t4RjQk",
        "outputId": "a58154b2-3982-4a8e-81e2-661935fad7a2"
      },
      "outputs": [
        {
          "data": {
            "text/plain": [
              "<AxesSubplot:>"
            ]
          },
          "execution_count": 277,
          "metadata": {},
          "output_type": "execute_result"
        },
        {
          "data": {
            "image/png": "[encoded data removed]",
            "text/plain": [
              "<Figure size 432x288 with 1 Axes>"
            ]
          },
          "metadata": {
            "needs_background": "light"
          },
          "output_type": "display_data"
        }
      ],
      "source": [
        "ratings_grouped['rating_average'].hist(bins=50)"
      ]
    },
    {
      "cell_type": "code",
      "execution_count": null,
      "metadata": {
        "id": "Qgn1gqrLRjQk",
        "outputId": "f7b41dec-71e0-4a76-dacb-3199b5f4895b"
      },
      "outputs": [
        {
          "name": "stdout",
          "output_type": "stream",
          "text": [
            "average rating for the whole dataset: 0.7020177018236602\n"
          ]
        }
      ],
      "source": [
        "C = ratings_grouped['rating_average'].mean()\n",
        "print(f'average rating for the whole dataset: {C}')"
      ]
    },
    {
      "cell_type": "code",
      "execution_count": null,
      "metadata": {
        "id": "VzvgqzacRjQk",
        "outputId": "786594d5-5351-477d-c1f1-7159b7ae8e15"
      },
      "outputs": [
        {
          "data": {
            "text/plain": [
              "<AxesSubplot:>"
            ]
          },
          "execution_count": 279,
          "metadata": {},
          "output_type": "execute_result"
        },
        {
          "data": {
            "image/png": "[encoded data removed]",
            "text/plain": [
              "<Figure size 432x288 with 1 Axes>"
            ]
          },
          "metadata": {
            "needs_background": "light"
          },
          "output_type": "display_data"
        }
      ],
      "source": [
        "ratings_grouped['rating_count'].hist(bins=50)"
      ]
    },
    {
      "cell_type": "code",
      "execution_count": null,
      "metadata": {
        "id": "4vfpeWvZRjQl",
        "outputId": "cbee2592-6458-4891-d149-2b2c4e5f9dec"
      },
      "outputs": [
        {
          "name": "stdout",
          "output_type": "stream",
          "text": [
            "minimum votes required to be classified as popular: 18505\n"
          ]
        }
      ],
      "source": [
        "m = ratings_grouped['rating_count'].min()\n",
        "print(f'minimum votes required to be classified as popular: {m}')"
      ]
    },
    {
      "cell_type": "markdown",
      "metadata": {
        "id": "DVi697VyRjQl"
      },
      "source": [
        "### Подсчитаем взвешенные рейтинги шуток по формуле IMDB:"
      ]
    },
    {
      "cell_type": "code",
      "execution_count": null,
      "metadata": {
        "scrolled": true,
        "id": "IYDK5eN-RjQl",
        "outputId": "313a01f9-cb3e-41e1-aa6f-f0c702b23dd7"
      },
      "outputs": [
        {
          "data": {
            "text/html": [
              "<div>\n",
              "<style scoped>\n",
              "    .dataframe tbody tr th:only-of-type {\n",
              "        vertical-align: middle;\n",
              "    }\n",
              "\n",
              "    .dataframe tbody tr th {\n",
              "        vertical-align: top;\n",
              "    }\n",
              "\n",
              "    .dataframe thead th {\n",
              "        text-align: right;\n",
              "    }\n",
              "</style>\n",
              "<table border=\"1\" class=\"dataframe\">\n",
              "  <thead>\n",
              "    <tr style=\"text-align: right;\">\n",
              "      <th></th>\n",
              "      <th>joke_id</th>\n",
              "      <th>rating_count</th>\n",
              "      <th>rating_average</th>\n",
              "      <th>weighted_rating</th>\n",
              "      <th>text</th>\n",
              "    </tr>\n",
              "  </thead>\n",
              "  <tbody>\n",
              "    <tr>\n",
              "      <th>49</th>\n",
              "      <td>49</td>\n",
              "      <td>70449</td>\n",
              "      <td>3.36</td>\n",
              "      <td>2.81</td>\n",
              "      <td>A guy goes into confession and says to the priest, \"Father, I'm 80 years old, widower, with 11 grandchildren. Last night I met two beautiful flight attendants. They took me home and I made love to both of them. Twice.\"  The priest said: \"Well, my son, when was the last time you were in confession?\"  \"Never Father, I'm Jewish.\"  \"So then, why are you telling me?\"  \"I'm telling everybody.\"</td>\n",
              "    </tr>\n",
              "    <tr>\n",
              "      <th>31</th>\n",
              "      <td>31</td>\n",
              "      <td>66300</td>\n",
              "      <td>2.97</td>\n",
              "      <td>2.48</td>\n",
              "      <td>A man arrives at the gates of heaven. St. Peter asks, \"Religion?\"  The man says, \"Methodist.\" St. Peter looks down his list, and says,  \"Go to room 24, but be very quiet as you pass room 8.\"   Another man arrives at the gates of heaven. \"Religion?\" \"Baptist.\" \"Go to room 18, but be very quiet as you pass room 8.\"   A third man arrives at the gates. \"Religion?\" \"Jewish.\" \"Go to room 11, but be ...</td>\n",
              "    </tr>\n",
              "    <tr>\n",
              "      <th>35</th>\n",
              "      <td>35</td>\n",
              "      <td>68137</td>\n",
              "      <td>2.92</td>\n",
              "      <td>2.44</td>\n",
              "      <td>A guy walks into a bar, orders a beer and says to the bartender, \"Hey, I got this great Polish Joke...\"   The barkeep glares at him and says in a warning tone of voice: \"Before you go telling that joke you better know that I'm Polish, both bouncers are Polish and so are most of my customers\"  \"Okay\" says the customer,\"I'll tell it very slowly.\"</td>\n",
              "    </tr>\n",
              "    <tr>\n",
              "      <th>26</th>\n",
              "      <td>26</td>\n",
              "      <td>67718</td>\n",
              "      <td>2.91</td>\n",
              "      <td>2.43</td>\n",
              "      <td>Clinton returns from a vacation in Arkansas and walks down  the steps of Air Force One with two pigs under his arms.  At the bottom of the steps, he says  to the honor guardsman, \"These are genuine Arkansas Razor-Back Hogs.  I got this one for Chelsea and this one for Hillary.\"    The guardsman replies, \"Nice trade, Sir.\"</td>\n",
              "    </tr>\n",
              "    <tr>\n",
              "      <th>34</th>\n",
              "      <td>34</td>\n",
              "      <td>66460</td>\n",
              "      <td>2.78</td>\n",
              "      <td>2.32</td>\n",
              "      <td>An explorer in the deepest Amazon suddenly finds himself surrounded by a bloodthirsty group of natives. Upon surveying the situation, he says quietly to himself, \"Oh God, I'm screwed.\"   The sky darkens and a voice booms out, \"No, you are NOT screwed. Pick up that stone at your feet and bash in the head of the chief standing in front of you.\"   So with the stone he bashes the life out of the c...</td>\n",
              "    </tr>\n",
              "    <tr>\n",
              "      <th>61</th>\n",
              "      <td>61</td>\n",
              "      <td>63574</td>\n",
              "      <td>2.68</td>\n",
              "      <td>2.23</td>\n",
              "      <td>A group of  managers were given the assignment to measure the height of a flagpole. So they go out to the flagpole with ladders and tape measures, and they're falling off the ladders, dropping the tape measures - the whole thing is just a mess. An engineer comes along and sees what they're trying to do, walks over, pulls the flagpole out of the ground, lays it flat, measures it from end to end...</td>\n",
              "    </tr>\n",
              "    <tr>\n",
              "      <th>28</th>\n",
              "      <td>28</td>\n",
              "      <td>67065</td>\n",
              "      <td>2.62</td>\n",
              "      <td>2.20</td>\n",
              "      <td>An old Scotsmen is sitting with a younger Scottish gentleman and says the boy.  \"Ah, lad look out that window. You see that stone wall there, I built it with me own bare hands, placed every stone meself.  But do they call me MacGregor the wall builder? No!   He Takes a few sips of his beer then says, \"Aye, and look out on that lake and  eye that beautiful pier. I built it meself, laid every bo...</td>\n",
              "    </tr>\n",
              "    <tr>\n",
              "      <th>52</th>\n",
              "      <td>52</td>\n",
              "      <td>67068</td>\n",
              "      <td>2.55</td>\n",
              "      <td>2.15</td>\n",
              "      <td>One Sunday morning William burst into the living room and said, \"Dad! Mom! I have some great news for you! I am getting married to the most beautiful girl in town. She lives a block away and her name is Susan.\" After dinner, William's dad took him aside. \"Son, I have to talk with you. Your mother and I have been married 30 years.. She's a wonderful wife but she has never offered much excitemen...</td>\n",
              "    </tr>\n",
              "    <tr>\n",
              "      <th>48</th>\n",
              "      <td>48</td>\n",
              "      <td>60608</td>\n",
              "      <td>2.52</td>\n",
              "      <td>2.09</td>\n",
              "      <td>Three engineering students were gathered together discussing the possible designers of the human body.   One said, \"It was a mechanical engineer. Just look at all the joints.\"   Another said, \"No, it was an electrical engineer.  The nervous systems many thousands of electrical connections.\"   The last said, \"Actually it was a civil engineer. Who else would run a toxic waste pipeline through a ...</td>\n",
              "    </tr>\n",
              "    <tr>\n",
              "      <th>88</th>\n",
              "      <td>88</td>\n",
              "      <td>20443</td>\n",
              "      <td>3.35</td>\n",
              "      <td>2.09</td>\n",
              "      <td>A radio conversation of a US naval  ship with Canadian authorities ...   Americans: Please divert your course 15 degrees to the North to avoid a collision.  Canadians: Recommend you divert YOUR course 15 degrees to the South to  avoid a collision.  Americans: This is the Captain of a US Navy ship.  I say again, divert  YOUR course.  Canadians: No.  I say again, you divert YOUR course.  America...</td>\n",
              "    </tr>\n",
              "  </tbody>\n",
              "</table>\n",
              "</div>"
            ],
            "text/plain": [
              "    joke_id  rating_count  rating_average  weighted_rating  \\\n",
              "49       49         70449            3.36             2.81   \n",
              "31       31         66300            2.97             2.48   \n",
              "35       35         68137            2.92             2.44   \n",
              "26       26         67718            2.91             2.43   \n",
              "34       34         66460            2.78             2.32   \n",
              "61       61         63574            2.68             2.23   \n",
              "28       28         67065            2.62             2.20   \n",
              "52       52         67068            2.55             2.15   \n",
              "48       48         60608            2.52             2.09   \n",
              "88       88         20443            3.35             2.09   \n",
              "\n",
              "                                                                                                                                                                                                                                                                                                                                                                                                               text  \n",
              "49           A guy goes into confession and says to the priest, \"Father, I'm 80 years old, widower, with 11 grandchildren. Last night I met two beautiful flight attendants. They took me home and I made love to both of them. Twice.\"  The priest said: \"Well, my son, when was the last time you were in confession?\"  \"Never Father, I'm Jewish.\"  \"So then, why are you telling me?\"  \"I'm telling everybody.\"  \n",
              "31  A man arrives at the gates of heaven. St. Peter asks, \"Religion?\"  The man says, \"Methodist.\" St. Peter looks down his list, and says,  \"Go to room 24, but be very quiet as you pass room 8.\"   Another man arrives at the gates of heaven. \"Religion?\" \"Baptist.\" \"Go to room 18, but be very quiet as you pass room 8.\"   A third man arrives at the gates. \"Religion?\" \"Jewish.\" \"Go to room 11, but be ...  \n",
              "35                                                       A guy walks into a bar, orders a beer and says to the bartender, \"Hey, I got this great Polish Joke...\"   The barkeep glares at him and says in a warning tone of voice: \"Before you go telling that joke you better know that I'm Polish, both bouncers are Polish and so are most of my customers\"  \"Okay\" says the customer,\"I'll tell it very slowly.\"  \n",
              "26                                                                              Clinton returns from a vacation in Arkansas and walks down  the steps of Air Force One with two pigs under his arms.  At the bottom of the steps, he says  to the honor guardsman, \"These are genuine Arkansas Razor-Back Hogs.  I got this one for Chelsea and this one for Hillary.\"    The guardsman replies, \"Nice trade, Sir.\"  \n",
              "34  An explorer in the deepest Amazon suddenly finds himself surrounded by a bloodthirsty group of natives. Upon surveying the situation, he says quietly to himself, \"Oh God, I'm screwed.\"   The sky darkens and a voice booms out, \"No, you are NOT screwed. Pick up that stone at your feet and bash in the head of the chief standing in front of you.\"   So with the stone he bashes the life out of the c...  \n",
              "61  A group of  managers were given the assignment to measure the height of a flagpole. So they go out to the flagpole with ladders and tape measures, and they're falling off the ladders, dropping the tape measures - the whole thing is just a mess. An engineer comes along and sees what they're trying to do, walks over, pulls the flagpole out of the ground, lays it flat, measures it from end to end...  \n",
              "28  An old Scotsmen is sitting with a younger Scottish gentleman and says the boy.  \"Ah, lad look out that window. You see that stone wall there, I built it with me own bare hands, placed every stone meself.  But do they call me MacGregor the wall builder? No!   He Takes a few sips of his beer then says, \"Aye, and look out on that lake and  eye that beautiful pier. I built it meself, laid every bo...  \n",
              "52  One Sunday morning William burst into the living room and said, \"Dad! Mom! I have some great news for you! I am getting married to the most beautiful girl in town. She lives a block away and her name is Susan.\" After dinner, William's dad took him aside. \"Son, I have to talk with you. Your mother and I have been married 30 years.. She's a wonderful wife but she has never offered much excitemen...  \n",
              "48  Three engineering students were gathered together discussing the possible designers of the human body.   One said, \"It was a mechanical engineer. Just look at all the joints.\"   Another said, \"No, it was an electrical engineer.  The nervous systems many thousands of electrical connections.\"   The last said, \"Actually it was a civil engineer. Who else would run a toxic waste pipeline through a ...  \n",
              "88  A radio conversation of a US naval  ship with Canadian authorities ...   Americans: Please divert your course 15 degrees to the North to avoid a collision.  Canadians: Recommend you divert YOUR course 15 degrees to the South to  avoid a collision.  Americans: This is the Captain of a US Navy ship.  I say again, divert  YOUR course.  Canadians: No.  I say again, you divert YOUR course.  America...  "
            ]
          },
          "execution_count": 281,
          "metadata": {},
          "output_type": "execute_result"
        }
      ],
      "source": [
        "def weighted_rating(x, m=m, C=C):\n",
        "    '''\n",
        "    Calculate the weighted rating\n",
        "    \n",
        "    Args:\n",
        "    v -> rating counts for each item (pd.Series)\n",
        "    m -> minimum votes required to be classified as popular (float)\n",
        "    R -> average rating for each item (pd.Series)\n",
        "    C -> average rating for the whole dataset (float)\n",
        "    \n",
        "    Returns:\n",
        "    pd.Series\n",
        "    '''\n",
        "    v = x['rating_count']\n",
        "    R = x['rating_average']\n",
        "    return (v/(v+m) * R) + (m/(m+v) * C)\n",
        "\n",
        "ratings_grouped['weighted_rating'] = ratings_grouped.apply(weighted_rating, axis=1)\n",
        "\n",
        "ratings_grouped.sort_values('weighted_rating', ascending = False, inplace = True)\n",
        "\n",
        "ratings_grouped['text'] = ratings_grouped['joke_id'].map(jokes_dict)\n",
        "\n",
        "ratings_grouped.head(10)"
      ]
    },
    {
      "cell_type": "markdown",
      "metadata": {
        "id": "zh2lFBQyRjQm"
      },
      "source": [
        "### Новым user предлагаем шутки с наибольшим weighted_rating"
      ]
    },
    {
      "cell_type": "markdown",
      "metadata": {
        "id": "pKBn-ComRjQm"
      },
      "source": [
        "### 2. Что делать в случае, если появляется новая шутка, по которой нет оценок или оценок слишком мало?"
      ]
    },
    {
      "cell_type": "markdown",
      "metadata": {
        "id": "PJgwTHQaRjQm"
      },
      "source": [
        "# Content-based модель: новую шутку можно предложить тем пользователям, которые хорошо оценили шутку, близкую к новой по косинусной мере"
      ]
    },
    {
      "cell_type": "code",
      "execution_count": null,
      "metadata": {
        "id": "B0vDWsv4RjQm"
      },
      "outputs": [],
      "source": [
        "from sklearn.feature_extraction.text import TfidfVectorizer\n",
        "from sklearn.metrics.pairwise import linear_kernel\n",
        "from sklearn.metrics.pairwise import cosine_similarity\n",
        "\n",
        "tfidf = TfidfVectorizer(stop_words='english', min_df = 3, max_df = 10)\n",
        "\n",
        "tfidf_matrix = tfidf.fit_transform(jokes['text'])\n",
        "\n",
        "cosine_sim = cosine_similarity(tfidf_matrix, tfidf_matrix, )"
      ]
    },
    {
      "cell_type": "code",
      "execution_count": null,
      "metadata": {
        "id": "UJZ1gGdlRjQn"
      },
      "outputs": [],
      "source": [
        "def get_recommendations(joke_id, cosine_sim, k):\n",
        "    '''\n",
        "    Return indices of jokes, which are closest to the current\n",
        "    \n",
        "    Args:\n",
        "    joke_id -> indice of joke (int)\n",
        "    cosine_sim -> cosine sim matrix (np.array)\n",
        "    k -> nof tops (int)\n",
        "    \n",
        "    Returns:\n",
        "    list\n",
        "    '''\n",
        "    \n",
        "    sim_scores = list(enumerate(cosine_sim[joke_id]))\n",
        "    sim_scores = sorted(sim_scores, key=lambda x: x[1], reverse=True)\n",
        "    sim_scores = sim_scores[1:k+1]\n",
        "    print(sim_scores)\n",
        "    jokes_indices = [i[0] for i in sim_scores]\n",
        "    return jokes_indices"
      ]
    },
    {
      "cell_type": "markdown",
      "metadata": {
        "id": "PPxhKKmnRjQn"
      },
      "source": [
        "### Предположим, что шутка joke_id == 96 новая:"
      ]
    },
    {
      "cell_type": "code",
      "execution_count": null,
      "metadata": {
        "id": "XXxZ0EijRjQn",
        "outputId": "ec4ee3fe-853d-47bd-d4ab-0184641a1505"
      },
      "outputs": [
        {
          "data": {
            "text/html": [
              "<div>\n",
              "<style scoped>\n",
              "    .dataframe tbody tr th:only-of-type {\n",
              "        vertical-align: middle;\n",
              "    }\n",
              "\n",
              "    .dataframe tbody tr th {\n",
              "        vertical-align: top;\n",
              "    }\n",
              "\n",
              "    .dataframe thead th {\n",
              "        text-align: right;\n",
              "    }\n",
              "</style>\n",
              "<table border=\"1\" class=\"dataframe\">\n",
              "  <thead>\n",
              "    <tr style=\"text-align: right;\">\n",
              "      <th></th>\n",
              "      <th>joke_id</th>\n",
              "      <th>text</th>\n",
              "    </tr>\n",
              "  </thead>\n",
              "  <tbody>\n",
              "    <tr>\n",
              "      <th>86</th>\n",
              "      <td>86</td>\n",
              "      <td>A man, recently completing a routine physical examination receives a phone call from his doctor.  The doctor says, \"I have some good news and some bad news.\"  The man says, \"OK, give me the good news first.\"  The doctor says, \"The good news is, you have 24 hours to live.\"  The man replies, \"Shit!  That's the good news?  Then what's the bad news?\"  The doctor says, \"The bad news is, I forgot to...</td>\n",
              "    </tr>\n",
              "  </tbody>\n",
              "</table>\n",
              "</div>"
            ],
            "text/plain": [
              "    joke_id  \\\n",
              "86       86   \n",
              "\n",
              "                                                                                                                                                                                                                                                                                                                                                                                                               text  \n",
              "86  A man, recently completing a routine physical examination receives a phone call from his doctor.  The doctor says, \"I have some good news and some bad news.\"  The man says, \"OK, give me the good news first.\"  The doctor says, \"The good news is, you have 24 hours to live.\"  The man replies, \"Shit!  That's the good news?  Then what's the bad news?\"  The doctor says, \"The bad news is, I forgot to...  "
            ]
          },
          "execution_count": 273,
          "metadata": {},
          "output_type": "execute_result"
        }
      ],
      "source": [
        "joke_id = 86\n",
        "\n",
        "jokes.iloc[[joke_id]]"
      ]
    },
    {
      "cell_type": "code",
      "execution_count": null,
      "metadata": {
        "id": "0isMCD0xRjQo",
        "outputId": "aa82103b-57c6-49e0-ffbf-fa84686da2d5"
      },
      "outputs": [
        {
          "name": "stdout",
          "output_type": "stream",
          "text": [
            "top-1:\n",
            "[(0, 0.7322801154226467)]\n",
            "['joke_id=0: A man visits the doctor. The doctor says \"I have bad news for you.You have cancer and Alzheimer\\'s disease\".  The man replies \"Well,thank God I don\\'t have cancer!\"']\n"
          ]
        }
      ],
      "source": [
        "k=1\n",
        "print(f'top-{k}:')\n",
        "\n",
        "print(['joke_id='+str(x)+': '+jokes_dict[x] for x in get_recommendations(joke_id, cosine_sim, k=k)])"
      ]
    },
    {
      "cell_type": "markdown",
      "metadata": {
        "id": "lOdSPyr1RjQo"
      },
      "source": [
        "Шутку мы можем рекомендовать тем user_id, которые давали высокую оценку близкой шутке с joke_id=30"
      ]
    },
    {
      "cell_type": "code",
      "execution_count": null,
      "metadata": {
        "id": "Tode1hEQRjQo",
        "outputId": "5e0e0b10-6f0e-47ff-9ac0-a857bfe42629"
      },
      "outputs": [
        {
          "data": {
            "text/html": [
              "<div>\n",
              "<style scoped>\n",
              "    .dataframe tbody tr th:only-of-type {\n",
              "        vertical-align: middle;\n",
              "    }\n",
              "\n",
              "    .dataframe tbody tr th {\n",
              "        vertical-align: top;\n",
              "    }\n",
              "\n",
              "    .dataframe thead th {\n",
              "        text-align: right;\n",
              "    }\n",
              "</style>\n",
              "<table border=\"1\" class=\"dataframe\">\n",
              "  <thead>\n",
              "    <tr style=\"text-align: right;\">\n",
              "      <th></th>\n",
              "      <th>user_id</th>\n",
              "      <th>joke_id</th>\n",
              "      <th>rating</th>\n",
              "    </tr>\n",
              "  </thead>\n",
              "  <tbody>\n",
              "    <tr>\n",
              "      <th>2276036</th>\n",
              "      <td>73406</td>\n",
              "      <td>30</td>\n",
              "      <td>9.76</td>\n",
              "    </tr>\n",
              "    <tr>\n",
              "      <th>2269563</th>\n",
              "      <td>66933</td>\n",
              "      <td>30</td>\n",
              "      <td>9.42</td>\n",
              "    </tr>\n",
              "    <tr>\n",
              "      <th>2234525</th>\n",
              "      <td>31895</td>\n",
              "      <td>30</td>\n",
              "      <td>9.37</td>\n",
              "    </tr>\n",
              "    <tr>\n",
              "      <th>2238224</th>\n",
              "      <td>35594</td>\n",
              "      <td>30</td>\n",
              "      <td>9.37</td>\n",
              "    </tr>\n",
              "    <tr>\n",
              "      <th>2238017</th>\n",
              "      <td>35387</td>\n",
              "      <td>30</td>\n",
              "      <td>9.37</td>\n",
              "    </tr>\n",
              "    <tr>\n",
              "      <th>...</th>\n",
              "      <td>...</td>\n",
              "      <td>...</td>\n",
              "      <td>...</td>\n",
              "    </tr>\n",
              "    <tr>\n",
              "      <th>2234499</th>\n",
              "      <td>31869</td>\n",
              "      <td>30</td>\n",
              "      <td>9.03</td>\n",
              "    </tr>\n",
              "    <tr>\n",
              "      <th>2233927</th>\n",
              "      <td>31297</td>\n",
              "      <td>30</td>\n",
              "      <td>9.03</td>\n",
              "    </tr>\n",
              "    <tr>\n",
              "      <th>2233744</th>\n",
              "      <td>31114</td>\n",
              "      <td>30</td>\n",
              "      <td>9.03</td>\n",
              "    </tr>\n",
              "    <tr>\n",
              "      <th>2211443</th>\n",
              "      <td>8813</td>\n",
              "      <td>30</td>\n",
              "      <td>9.03</td>\n",
              "    </tr>\n",
              "    <tr>\n",
              "      <th>2202658</th>\n",
              "      <td>28</td>\n",
              "      <td>30</td>\n",
              "      <td>9.03</td>\n",
              "    </tr>\n",
              "  </tbody>\n",
              "</table>\n",
              "<p>1443 rows × 3 columns</p>\n",
              "</div>"
            ],
            "text/plain": [
              "         user_id  joke_id  rating\n",
              "2276036    73406       30    9.76\n",
              "2269563    66933       30    9.42\n",
              "2234525    31895       30    9.37\n",
              "2238224    35594       30    9.37\n",
              "2238017    35387       30    9.37\n",
              "...          ...      ...     ...\n",
              "2234499    31869       30    9.03\n",
              "2233927    31297       30    9.03\n",
              "2233744    31114       30    9.03\n",
              "2211443     8813       30    9.03\n",
              "2202658       28       30    9.03\n",
              "\n",
              "[1443 rows x 3 columns]"
            ]
          },
          "execution_count": 283,
          "metadata": {},
          "output_type": "execute_result"
        }
      ],
      "source": [
        "ratings[(ratings.joke_id==30)&(ratings.rating>9)].sort_values('rating')[::-1]"
      ]
    },
    {
      "cell_type": "code",
      "execution_count": null,
      "metadata": {
        "id": "RKDmzefaRjQo"
      },
      "outputs": [],
      "source": [
        ""
      ]
    }
  ],
  "metadata": {
    "colab": {
      "collapsed_sections": [],
      "name": "RS-jester.ipynb",
      "provenance": [],
      "include_colab_link": true
    },
    "kernelspec": {
      "display_name": "Python 3",
      "language": "python",
      "name": "python3"
    },
    "language_info": {
      "codemirror_mode": {
        "name": "ipython",
        "version": 3
      },
      "file_extension": ".py",
      "mimetype": "text/x-python",
      "name": "python",
      "nbconvert_exporter": "python",
      "pygments_lexer": "ipython3",
      "version": "3.7.4"
    }
  },
  "nbformat": 4,
  "nbformat_minor": 0
}